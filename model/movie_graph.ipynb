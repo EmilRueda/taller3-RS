{
 "cells": [
  {
   "cell_type": "code",
   "execution_count": 78,
   "metadata": {},
   "outputs": [],
   "source": [
    "from functools import reduce\n",
    "\n",
    "import math\n",
    "from neo4j import GraphDatabase\n",
    "from pyspark.sql import SparkSession\n",
    "from pyspark.sql import functions as F\n",
    "from pyspark.sql.functions import pandas_udf\n",
    "from pyspark.sql.functions import udf\n",
    "from pyspark.sql import types as T\n",
    "import pandas as pd\n",
    "from ydata_profiling import ProfileReport\n",
    "import scipy.stats as st"
   ]
  },
  {
   "cell_type": "code",
   "execution_count": 2,
   "metadata": {},
   "outputs": [],
   "source": [
    "url = \"neo4j+s://e13d26eb.databases.neo4j.io\"\n",
    "username = \"neo4j\"\n",
    "password = \"C0-lgeL4HXJTknM9OI0qq-2mGvZ5hI41521JX9WvqO0\""
   ]
  },
  {
   "cell_type": "code",
   "execution_count": 3,
   "metadata": {},
   "outputs": [
    {
     "name": "stderr",
     "output_type": "stream",
     "text": [
      "Warning: Ignoring non-Spark config property: neo4j.url\n",
      "Warning: Ignoring non-Spark config property: neo4j.authentication.basic.password\n",
      "Warning: Ignoring non-Spark config property: neo4j.authentication.type\n",
      "Warning: Ignoring non-Spark config property: neo4j.authentication.basic.username\n"
     ]
    },
    {
     "name": "stdout",
     "output_type": "stream",
     "text": [
      "24/06/03 20:05:11 WARN Utils: Your hostname, emil-GL552VW resolves to a loopback address: 127.0.1.1; using 192.168.1.5 instead (on interface wlp2s0)\n",
      "24/06/03 20:05:11 WARN Utils: Set SPARK_LOCAL_IP if you need to bind to another address\n",
      ":: loading settings :: url = jar:file:/home/emil/spark/spark/jars/ivy-2.5.1.jar!/org/apache/ivy/core/settings/ivysettings.xml\n"
     ]
    },
    {
     "name": "stderr",
     "output_type": "stream",
     "text": [
      "Ivy Default Cache set to: /home/emil/.ivy2/cache\n",
      "The jars for the packages stored in: /home/emil/.ivy2/jars\n",
      "org.neo4j#neo4j-connector-apache-spark_2.12 added as a dependency\n",
      ":: resolving dependencies :: org.apache.spark#spark-submit-parent-2ebb33e4-6009-4c0b-a73d-6db40be47832;1.0\n",
      "\tconfs: [default]\n",
      "\tfound org.neo4j#neo4j-connector-apache-spark_2.12;5.1.0_for_spark_3 in central\n",
      "\tfound org.neo4j#neo4j-connector-apache-spark_2.12_common;5.1.0 in central\n",
      "\tfound org.neo4j.driver#neo4j-java-driver;4.4.12 in central\n",
      "\tfound org.reactivestreams#reactive-streams;1.0.4 in central\n",
      "\tfound org.apache.xbean#xbean-asm6-shaded;4.10 in central\n",
      "\tfound org.neo4j#neo4j-cypher-dsl;2022.9.0 in central\n",
      "\tfound org.apiguardian#apiguardian-api;1.1.2 in central\n",
      ":: resolution report :: resolve 362ms :: artifacts dl 15ms\n",
      "\t:: modules in use:\n",
      "\torg.apache.xbean#xbean-asm6-shaded;4.10 from central in [default]\n",
      "\torg.apiguardian#apiguardian-api;1.1.2 from central in [default]\n",
      "\torg.neo4j#neo4j-connector-apache-spark_2.12;5.1.0_for_spark_3 from central in [default]\n",
      "\torg.neo4j#neo4j-connector-apache-spark_2.12_common;5.1.0 from central in [default]\n",
      "\torg.neo4j#neo4j-cypher-dsl;2022.9.0 from central in [default]\n",
      "\torg.neo4j.driver#neo4j-java-driver;4.4.12 from central in [default]\n",
      "\torg.reactivestreams#reactive-streams;1.0.4 from central in [default]\n",
      "\t---------------------------------------------------------------------\n",
      "\t|                  |            modules            ||   artifacts   |\n",
      "\t|       conf       | number| search|dwnlded|evicted|| number|dwnlded|\n",
      "\t---------------------------------------------------------------------\n",
      "\t|      default     |   7   |   0   |   0   |   0   ||   7   |   0   |\n",
      "\t---------------------------------------------------------------------\n",
      ":: retrieving :: org.apache.spark#spark-submit-parent-2ebb33e4-6009-4c0b-a73d-6db40be47832\n",
      "\tconfs: [default]\n",
      "\t0 artifacts copied, 7 already retrieved (0kB/11ms)\n"
     ]
    },
    {
     "name": "stdout",
     "output_type": "stream",
     "text": [
      "24/06/03 20:05:12 WARN NativeCodeLoader: Unable to load native-hadoop library for your platform... using builtin-java classes where applicable\n"
     ]
    },
    {
     "name": "stderr",
     "output_type": "stream",
     "text": [
      "Setting default log level to \"WARN\".\n",
      "To adjust logging level use sc.setLogLevel(newLevel). For SparkR, use setLogLevel(newLevel).\n"
     ]
    },
    {
     "name": "stdout",
     "output_type": "stream",
     "text": [
      "24/06/03 20:05:12 WARN SparkConf: Note that spark.local.dir will be overridden by the value set by the cluster manager (via SPARK_LOCAL_DIRS in mesos/standalone/kubernetes and LOCAL_DIRS in YARN).\n"
     ]
    }
   ],
   "source": [
    "spark = (\n",
    "    SparkSession.builder.config(\"neo4j.url\", url)\n",
    "    .config(\"neo4j.authentication.type\", \"basic\")\n",
    "    .config('spark.jars.packages', 'org.neo4j:neo4j-connector-apache-spark_2.12:5.1.0_for_spark_3')\n",
    "    .config(\"neo4j.authentication.basic.username\", username)\n",
    "    .config(\"neo4j.authentication.basic.password\", password)\n",
    "    .getOrCreate()\n",
    ")"
   ]
  },
  {
   "cell_type": "code",
   "execution_count": 4,
   "metadata": {},
   "outputs": [
    {
     "data": {
      "text/html": [
       "\n",
       "            <div>\n",
       "                <p><b>SparkSession - in-memory</b></p>\n",
       "                \n",
       "        <div>\n",
       "            <p><b>SparkContext</b></p>\n",
       "\n",
       "            <p><a href=\"http://192.168.1.5:4040\">Spark UI</a></p>\n",
       "\n",
       "            <dl>\n",
       "              <dt>Version</dt>\n",
       "                <dd><code>v3.3.2</code></dd>\n",
       "              <dt>Master</dt>\n",
       "                <dd><code>local[*]</code></dd>\n",
       "              <dt>AppName</dt>\n",
       "                <dd><code>pyspark-shell</code></dd>\n",
       "            </dl>\n",
       "        </div>\n",
       "        \n",
       "            </div>\n",
       "        "
      ],
      "text/plain": [
       "<pyspark.sql.session.SparkSession at 0x79472ba01810>"
      ]
     },
     "execution_count": 4,
     "metadata": {},
     "output_type": "execute_result"
    }
   ],
   "source": [
    "spark"
   ]
  },
  {
   "cell_type": "markdown",
   "metadata": {},
   "source": [
    "# Load data"
   ]
  },
  {
   "cell_type": "code",
   "execution_count": 20,
   "metadata": {},
   "outputs": [],
   "source": [
    "movilens_path = \"../data/ml-latest-small/\"\n",
    "imdb_path = \"../data/imdb/\""
   ]
  },
  {
   "cell_type": "code",
   "execution_count": 21,
   "metadata": {},
   "outputs": [],
   "source": [
    "raw_movies = spark.read.option(\"header\", True).format(\"csv\").load(movilens_path + \"movies.csv\")\n",
    "raw_ratings = spark.read.option(\"header\", True).format(\"csv\").load(movilens_path + \"ratings.csv\")\n",
    "raw_links = spark.read.option(\"header\", True).format(\"csv\").load(movilens_path + \"links.csv\")\n",
    "raw_tags = spark.read.option(\"header\", True).format(\"csv\").load(movilens_path + \"tags.csv\")"
   ]
  },
  {
   "cell_type": "code",
   "execution_count": 22,
   "metadata": {},
   "outputs": [],
   "source": [
    "raw_title_basics = spark.read.option(\"header\", True).option(\"delimiter\", \"\\t\").format(\"csv\").load(imdb_path + \"title.basics.tsv\")\n",
    "raw_title_crew = spark.read.option(\"header\", True).format(\"csv\").option(\"delimiter\", \"\\t\").load(imdb_path + \"title.crew.tsv\")\n",
    "raw_name = spark.read.option(\"header\", True).format(\"csv\").option(\"delimiter\", \"\\t\").load(imdb_path + \"name.basics.tsv\")\n",
    "raw_principals = spark.read.option(\"header\", True).format(\"csv\").option(\"delimiter\", \"\\t\").load(imdb_path + \"title.principals.tsv\")"
   ]
  },
  {
   "cell_type": "markdown",
   "metadata": {},
   "source": [
    "# EDA"
   ]
  },
  {
   "cell_type": "code",
   "execution_count": 18,
   "metadata": {},
   "outputs": [
    {
     "name": "stdout",
     "output_type": "stream",
     "text": [
      "+-------+--------------------+--------------------+\n",
      "|movieId|               title|              genres|\n",
      "+-------+--------------------+--------------------+\n",
      "|      1|    Toy Story (1995)|Adventure|Animati...|\n",
      "|      2|      Jumanji (1995)|Adventure|Childre...|\n",
      "|      3|Grumpier Old Men ...|      Comedy|Romance|\n",
      "|      4|Waiting to Exhale...|Comedy|Drama|Romance|\n",
      "|      5|Father of the Bri...|              Comedy|\n",
      "|      6|         Heat (1995)|Action|Crime|Thri...|\n",
      "|      7|      Sabrina (1995)|      Comedy|Romance|\n",
      "|      8| Tom and Huck (1995)|  Adventure|Children|\n",
      "|      9| Sudden Death (1995)|              Action|\n",
      "|     10|    GoldenEye (1995)|Action|Adventure|...|\n",
      "|     11|American Presiden...|Comedy|Drama|Romance|\n",
      "|     12|Dracula: Dead and...|       Comedy|Horror|\n",
      "|     13|        Balto (1995)|Adventure|Animati...|\n",
      "|     14|        Nixon (1995)|               Drama|\n",
      "|     15|Cutthroat Island ...|Action|Adventure|...|\n",
      "|     16|       Casino (1995)|         Crime|Drama|\n",
      "|     17|Sense and Sensibi...|       Drama|Romance|\n",
      "|     18|   Four Rooms (1995)|              Comedy|\n",
      "|     19|Ace Ventura: When...|              Comedy|\n",
      "|     20|  Money Train (1995)|Action|Comedy|Cri...|\n",
      "+-------+--------------------+--------------------+\n",
      "only showing top 20 rows\n",
      "\n"
     ]
    }
   ],
   "source": [
    "raw_movies.show()"
   ]
  },
  {
   "cell_type": "code",
   "execution_count": 80,
   "metadata": {},
   "outputs": [
    {
     "data": {
      "text/plain": [
       "9742"
      ]
     },
     "execution_count": 80,
     "metadata": {},
     "output_type": "execute_result"
    }
   ],
   "source": [
    "raw_movies.count()"
   ]
  },
  {
   "cell_type": "code",
   "execution_count": 22,
   "metadata": {},
   "outputs": [
    {
     "name": "stdout",
     "output_type": "stream",
     "text": [
      "+------+-------+------+---------+\n",
      "|userId|movieId|rating|timestamp|\n",
      "+------+-------+------+---------+\n",
      "|     1|      1|   4.0|964982703|\n",
      "|     1|      3|   4.0|964981247|\n",
      "|     1|      6|   4.0|964982224|\n",
      "|     1|     47|   5.0|964983815|\n",
      "|     1|     50|   5.0|964982931|\n",
      "|     1|     70|   3.0|964982400|\n",
      "|     1|    101|   5.0|964980868|\n",
      "|     1|    110|   4.0|964982176|\n",
      "|     1|    151|   5.0|964984041|\n",
      "|     1|    157|   5.0|964984100|\n",
      "|     1|    163|   5.0|964983650|\n",
      "|     1|    216|   5.0|964981208|\n",
      "|     1|    223|   3.0|964980985|\n",
      "|     1|    231|   5.0|964981179|\n",
      "|     1|    235|   4.0|964980908|\n",
      "|     1|    260|   5.0|964981680|\n",
      "|     1|    296|   3.0|964982967|\n",
      "|     1|    316|   3.0|964982310|\n",
      "|     1|    333|   5.0|964981179|\n",
      "|     1|    349|   4.0|964982563|\n",
      "+------+-------+------+---------+\n",
      "only showing top 20 rows\n",
      "\n"
     ]
    }
   ],
   "source": [
    "raw_ratings.show()"
   ]
  },
  {
   "cell_type": "code",
   "execution_count": 10,
   "metadata": {},
   "outputs": [
    {
     "data": {
      "text/plain": [
       "100836"
      ]
     },
     "execution_count": 10,
     "metadata": {},
     "output_type": "execute_result"
    }
   ],
   "source": [
    "raw_ratings.count()"
   ]
  },
  {
   "cell_type": "code",
   "execution_count": 23,
   "metadata": {},
   "outputs": [
    {
     "name": "stdout",
     "output_type": "stream",
     "text": [
      "+-------+-------+------+\n",
      "|movieId| imdbId|tmdbId|\n",
      "+-------+-------+------+\n",
      "|      1|0114709|   862|\n",
      "|      2|0113497|  8844|\n",
      "|      3|0113228| 15602|\n",
      "|      4|0114885| 31357|\n",
      "|      5|0113041| 11862|\n",
      "|      6|0113277|   949|\n",
      "|      7|0114319| 11860|\n",
      "|      8|0112302| 45325|\n",
      "|      9|0114576|  9091|\n",
      "|     10|0113189|   710|\n",
      "|     11|0112346|  9087|\n",
      "|     12|0112896| 12110|\n",
      "|     13|0112453| 21032|\n",
      "|     14|0113987| 10858|\n",
      "|     15|0112760|  1408|\n",
      "|     16|0112641|   524|\n",
      "|     17|0114388|  4584|\n",
      "|     18|0113101|     5|\n",
      "|     19|0112281|  9273|\n",
      "|     20|0113845| 11517|\n",
      "+-------+-------+------+\n",
      "only showing top 20 rows\n",
      "\n"
     ]
    }
   ],
   "source": [
    "raw_links.show()"
   ]
  },
  {
   "cell_type": "code",
   "execution_count": 25,
   "metadata": {},
   "outputs": [
    {
     "name": "stdout",
     "output_type": "stream",
     "text": [
      "+------+-------+-----------------+----------+\n",
      "|userId|movieId|              tag| timestamp|\n",
      "+------+-------+-----------------+----------+\n",
      "|     2|  60756|            funny|1445714994|\n",
      "|     2|  60756|  Highly quotable|1445714996|\n",
      "|     2|  60756|     will ferrell|1445714992|\n",
      "|     2|  89774|     Boxing story|1445715207|\n",
      "|     2|  89774|              MMA|1445715200|\n",
      "|     2|  89774|        Tom Hardy|1445715205|\n",
      "|     2| 106782|            drugs|1445715054|\n",
      "|     2| 106782|Leonardo DiCaprio|1445715051|\n",
      "|     2| 106782|  Martin Scorsese|1445715056|\n",
      "|     7|  48516|     way too long|1169687325|\n",
      "|    18|    431|        Al Pacino|1462138765|\n",
      "|    18|    431|         gangster|1462138749|\n",
      "|    18|    431|            mafia|1462138755|\n",
      "|    18|   1221|        Al Pacino|1461699306|\n",
      "|    18|   1221|            Mafia|1461699303|\n",
      "|    18|   5995|        holocaust|1455735472|\n",
      "|    18|   5995|       true story|1455735479|\n",
      "|    18|  44665|     twist ending|1456948283|\n",
      "|    18|  52604|  Anthony Hopkins|1457650696|\n",
      "|    18|  52604|  courtroom drama|1457650711|\n",
      "+------+-------+-----------------+----------+\n",
      "only showing top 20 rows\n",
      "\n"
     ]
    }
   ],
   "source": [
    "raw_tags.show()"
   ]
  },
  {
   "cell_type": "code",
   "execution_count": 39,
   "metadata": {},
   "outputs": [
    {
     "name": "stdout",
     "output_type": "stream",
     "text": [
      "+---------+---------+--------------------+--------------------+-------+---------+-------+--------------+--------------------+\n",
      "|   tconst|titleType|        primaryTitle|       originalTitle|isAdult|startYear|endYear|runtimeMinutes|              genres|\n",
      "+---------+---------+--------------------+--------------------+-------+---------+-------+--------------+--------------------+\n",
      "|tt0000001|    short|          Carmencita|          Carmencita|      0|     1894|     \\N|             1|   Documentary,Short|\n",
      "|tt0000002|    short|Le clown et ses c...|Le clown et ses c...|      0|     1892|     \\N|             5|     Animation,Short|\n",
      "|tt0000003|    short|      Pauvre Pierrot|      Pauvre Pierrot|      0|     1892|     \\N|             5|Animation,Comedy,...|\n",
      "|tt0000004|    short|         Un bon bock|         Un bon bock|      0|     1892|     \\N|            12|     Animation,Short|\n",
      "|tt0000005|    short|    Blacksmith Scene|    Blacksmith Scene|      0|     1893|     \\N|             1|        Comedy,Short|\n",
      "|tt0000006|    short|   Chinese Opium Den|   Chinese Opium Den|      0|     1894|     \\N|             1|               Short|\n",
      "|tt0000007|    short|Corbett and Court...|Corbett and Court...|      0|     1894|     \\N|             1|         Short,Sport|\n",
      "|tt0000008|    short|Edison Kinetoscop...|Edison Kinetoscop...|      0|     1894|     \\N|             1|   Documentary,Short|\n",
      "|tt0000009|    movie|          Miss Jerry|          Miss Jerry|      0|     1894|     \\N|            45|             Romance|\n",
      "|tt0000010|    short| Leaving the Factory|La sortie de l'us...|      0|     1895|     \\N|             1|   Documentary,Short|\n",
      "|tt0000011|    short|Akrobatisches Pot...|Akrobatisches Pot...|      0|     1895|     \\N|             1|   Documentary,Short|\n",
      "|tt0000012|    short|The Arrival of a ...|L'arrivée d'un tr...|      0|     1896|     \\N|             1|   Documentary,Short|\n",
      "|tt0000013|    short|The Photographica...|Le débarquement d...|      0|     1895|     \\N|             1|   Documentary,Short|\n",
      "|tt0000014|    short| The Waterer Watered|   L'arroseur arrosé|      0|     1895|     \\N|             1|        Comedy,Short|\n",
      "|tt0000015|    short| Autour d'une cabine| Autour d'une cabine|      0|     1894|     \\N|             2|     Animation,Short|\n",
      "|tt0000016|    short|Boat Leaving the ...|Barque sortant du...|      0|     1895|     \\N|             1|   Documentary,Short|\n",
      "|tt0000017|    short|Italienischer Bau...|Italienischer Bau...|      0|     1895|     \\N|             1|   Documentary,Short|\n",
      "|tt0000018|    short|Das boxende Känguruh|Das boxende Känguruh|      0|     1895|     \\N|             1|               Short|\n",
      "|tt0000019|    short|    The Clown Barber|    The Clown Barber|      0|     1898|     \\N|            \\N|        Comedy,Short|\n",
      "|tt0000020|    short|      The Derby 1895|      The Derby 1895|      0|     1895|     \\N|             1|Documentary,Short...|\n",
      "+---------+---------+--------------------+--------------------+-------+---------+-------+--------------+--------------------+\n",
      "only showing top 20 rows\n",
      "\n"
     ]
    }
   ],
   "source": [
    "raw_title_basics.show()"
   ]
  },
  {
   "cell_type": "code",
   "execution_count": 43,
   "metadata": {},
   "outputs": [
    {
     "name": "stdout",
     "output_type": "stream",
     "text": [
      "+---------+-------------------+---------+\n",
      "|   tconst|          directors|  writers|\n",
      "+---------+-------------------+---------+\n",
      "|tt0000001|          nm0005690|       \\N|\n",
      "|tt0000002|          nm0721526|       \\N|\n",
      "|tt0000003|          nm0721526|       \\N|\n",
      "|tt0000004|          nm0721526|       \\N|\n",
      "|tt0000005|          nm0005690|       \\N|\n",
      "|tt0000006|          nm0005690|       \\N|\n",
      "|tt0000007|nm0005690,nm0374658|       \\N|\n",
      "|tt0000008|          nm0005690|       \\N|\n",
      "|tt0000009|          nm0085156|nm0085156|\n",
      "|tt0000010|          nm0525910|       \\N|\n",
      "|tt0000011|          nm0804434|       \\N|\n",
      "|tt0000012|nm0525908,nm0525910|       \\N|\n",
      "|tt0000013|          nm0525910|       \\N|\n",
      "|tt0000014|          nm0525910|       \\N|\n",
      "|tt0000015|          nm0721526|       \\N|\n",
      "|tt0000016|          nm0525910|       \\N|\n",
      "|tt0000017|nm1587194,nm0804434|       \\N|\n",
      "|tt0000018|          nm0804434|       \\N|\n",
      "|tt0000019|          nm0932055|       \\N|\n",
      "|tt0000020|          nm0010291|       \\N|\n",
      "+---------+-------------------+---------+\n",
      "only showing top 20 rows\n",
      "\n"
     ]
    }
   ],
   "source": [
    "raw_title_crew.show()"
   ]
  },
  {
   "cell_type": "code",
   "execution_count": 45,
   "metadata": {},
   "outputs": [
    {
     "name": "stdout",
     "output_type": "stream",
     "text": [
      "+---------+-------------------+---------+---------+--------------------+--------------------+\n",
      "|   nconst|        primaryName|birthYear|deathYear|   primaryProfession|      knownForTitles|\n",
      "+---------+-------------------+---------+---------+--------------------+--------------------+\n",
      "|nm0000001|       Fred Astaire|     1899|     1987|actor,miscellaneo...|tt0072308,tt00504...|\n",
      "|nm0000002|      Lauren Bacall|     1924|     2014|actress,soundtrac...|tt0037382,tt00752...|\n",
      "|nm0000003|    Brigitte Bardot|     1934|       \\N|actress,music_dep...|tt0057345,tt00491...|\n",
      "|nm0000004|       John Belushi|     1949|     1982|actor,writer,musi...|tt0072562,tt00779...|\n",
      "|nm0000005|     Ingmar Bergman|     1918|     2007|writer,director,a...|tt0050986,tt00839...|\n",
      "|nm0000006|     Ingrid Bergman|     1915|     1982|actress,producer,...|tt0034583,tt00368...|\n",
      "|nm0000007|    Humphrey Bogart|     1899|     1957|actor,producer,mi...|tt0034583,tt00425...|\n",
      "|nm0000008|      Marlon Brando|     1924|     2004|actor,director,wr...|tt0078788,tt00686...|\n",
      "|nm0000009|     Richard Burton|     1925|     1984|actor,producer,di...|tt0061184,tt00878...|\n",
      "|nm0000010|       James Cagney|     1899|     1986|actor,director,pr...|tt0029870,tt00318...|\n",
      "|nm0000011|        Gary Cooper|     1901|     1961|actor,stunts,prod...|tt0044706,tt00341...|\n",
      "|nm0000012|        Bette Davis|     1908|     1989|actress,make_up_d...|tt0042192,tt00566...|\n",
      "|nm0000013|          Doris Day|     1922|     2019|actress,producer,...|tt0048317,tt00455...|\n",
      "|nm0000014|Olivia de Havilland|     1916|     2020|actress,soundtrac...|tt0031381,tt00414...|\n",
      "|nm0000015|         James Dean|     1931|     1955|actor,miscellaneo...|tt0048028,tt00485...|\n",
      "|nm0000016|    Georges Delerue|     1925|     1992|composer,music_de...|tt0091763,tt00963...|\n",
      "|nm0000017|   Marlene Dietrich|     1901|     1992|actress,music_dep...|tt0051201,tt00550...|\n",
      "|nm0000018|       Kirk Douglas|     1916|     2020|actor,producer,di...|tt0080736,tt00543...|\n",
      "|nm0000019|   Federico Fellini|     1920|     1993|writer,director,a...|tt0050783,tt00568...|\n",
      "|nm0000020|        Henry Fonda|     1905|     1982|actor,producer,mi...|tt0050083,tt00828...|\n",
      "+---------+-------------------+---------+---------+--------------------+--------------------+\n",
      "only showing top 20 rows\n",
      "\n"
     ]
    }
   ],
   "source": [
    "raw_name.show()"
   ]
  },
  {
   "cell_type": "code",
   "execution_count": 23,
   "metadata": {},
   "outputs": [
    {
     "name": "stdout",
     "output_type": "stream",
     "text": [
      "+---------+--------+---------+---------------+-----------------------+--------------+\n",
      "|tconst   |ordering|nconst   |category       |job                    |characters    |\n",
      "+---------+--------+---------+---------------+-----------------------+--------------+\n",
      "|tt0000001|1       |nm1588970|self           |\\N                     |[\"Self\"]      |\n",
      "|tt0000001|2       |nm0005690|director       |\\N                     |\\N            |\n",
      "|tt0000001|3       |nm0005690|producer       |producer               |\\N            |\n",
      "|tt0000001|4       |nm0374658|cinematographer|director of photography|\\N            |\n",
      "|tt0000002|1       |nm0721526|director       |\\N                     |\\N            |\n",
      "|tt0000002|2       |nm1335271|composer       |\\N                     |\\N            |\n",
      "|tt0000003|1       |nm0721526|director       |\\N                     |\\N            |\n",
      "|tt0000003|2       |nm1770680|producer       |producer               |\\N            |\n",
      "|tt0000003|3       |nm0721526|producer       |producer               |\\N            |\n",
      "|tt0000003|4       |nm1335271|composer       |\\N                     |\\N            |\n",
      "|tt0000003|5       |nm5442200|editor         |editor                 |\\N            |\n",
      "|tt0000004|1       |nm0721526|director       |\\N                     |\\N            |\n",
      "|tt0000004|2       |nm1335271|composer       |\\N                     |\\N            |\n",
      "|tt0000005|1       |nm0443482|actor          |\\N                     |[\"Blacksmith\"]|\n",
      "|tt0000005|2       |nm0653042|actor          |\\N                     |[\"Assistant\"] |\n",
      "|tt0000005|3       |nm0249379|producer       |producer               |\\N            |\n",
      "|tt0000007|1       |nm0179163|actor          |\\N                     |\\N            |\n",
      "|tt0000007|2       |nm0183947|actor          |\\N                     |\\N            |\n",
      "|tt0000007|3       |nm0005690|director       |\\N                     |\\N            |\n",
      "|tt0000007|4       |nm0374658|director       |\\N                     |\\N            |\n",
      "+---------+--------+---------+---------------+-----------------------+--------------+\n",
      "only showing top 20 rows\n",
      "\n"
     ]
    }
   ],
   "source": [
    "raw_principals.show(truncate=False)"
   ]
  },
  {
   "cell_type": "markdown",
   "metadata": {},
   "source": [
    "# Generate primary movies dataset"
   ]
  },
  {
   "cell_type": "code",
   "execution_count": 7,
   "metadata": {},
   "outputs": [],
   "source": [
    "directors = raw_title_crew.join(raw_name, raw_title_crew.directors==raw_name.nconst, how=\"inner\")"
   ]
  },
  {
   "cell_type": "code",
   "execution_count": 8,
   "metadata": {},
   "outputs": [
    {
     "name": "stderr",
     "output_type": "stream",
     "text": [
      "[Stage 12:>                                                         (0 + 1) / 1]\r"
     ]
    },
    {
     "name": "stdout",
     "output_type": "stream",
     "text": [
      "+----------+---------+--------------------+---------+--------------+---------+---------+--------------------+--------------------+\n",
      "|    tconst|directors|             writers|   nconst|   primaryName|birthYear|deathYear|   primaryProfession|      knownForTitles|\n",
      "+----------+---------+--------------------+---------+--------------+---------+---------+--------------------+--------------------+\n",
      "| tt0284008|nm0000100|nm0001037,nm00000...|nm0000100|Rowan Atkinson|     1955|       \\N|actor,writer,prod...|tt0274166,tt16341...|\n",
      "| tt0119600|nm0000113|           nm0000113|nm0000113|Sandra Bullock|     1964|       \\N|producer,actress,...|tt1041829,tt02123...|\n",
      "| tt0328097|nm0000161| nm0853256,nm0178294|nm0000161|   Salma Hayek|     1966|       \\N|actress,producer,...|tt0120679,tt01128...|\n",
      "| tt1192878|nm0000174|           nm0000174|nm0000174|    Val Kilmer|     1959|       \\N|actor,producer,di...|tt0101761,tt01200...|\n",
      "| tt6857412|nm0000174|           nm0000174|nm0000174|    Val Kilmer|     1959|       \\N|actor,producer,di...|tt0101761,tt01200...|\n",
      "| tt0119792|nm0000198|           nm0000198|nm0000198|   Gary Oldman|     1958|       \\N|actor,producer,di...|tt0468569,tt13408...|\n",
      "| tt2395259|nm0000198|                  \\N|nm0000198|   Gary Oldman|     1958|       \\N|actor,producer,di...|tt0468569,tt13408...|\n",
      "| tt2983414|nm0000198|           nm0000198|nm0000198|   Gary Oldman|     1958|       \\N|actor,producer,di...|tt0468569,tt13408...|\n",
      "| tt0116913|nm0000199|nm0000636,nm00001...|nm0000199|     Al Pacino|     1940|       \\N|actor,director,pr...|tt0070666,tt00728...|\n",
      "| tt0118852|nm0000199|           nm0507277|nm0000199|     Al Pacino|     1940|       \\N|actor,director,pr...|tt0070666,tt00728...|\n",
      "| tt0795459|nm0000199| nm0000199,nm0928492|nm0000199|     Al Pacino|     1940|       \\N|actor,director,pr...|tt0070666,tt00728...|\n",
      "| tt3112900|nm0000199|           nm0928492|nm0000199|     Al Pacino|     1940|       \\N|actor,director,pr...|tt0070666,tt00728...|\n",
      "| tt3856926|nm0000240|           nm2352176|nm0000240|  Skeet Ulrich|     1970|       \\N|actor,director,pr...|tt0117571,tt01159...|\n",
      "| tt1808711|nm0000301|           nm3396943|nm0000301|   Thora Birch|     1982|       \\N|actress,producer,...|tt0162346,tt01071...|\n",
      "|tt20049600|nm0000301| nm3667633,nm0806465|nm0000301|   Thora Birch|     1982|       \\N|actress,producer,...|tt0162346,tt01071...|\n",
      "|tt21807858|nm0000301|nm12676918,nm0001465|nm0000301|   Thora Birch|     1982|       \\N|actress,producer,...|tt0162346,tt01071...|\n",
      "| tt0084868|nm0000318|           nm0000318|nm0000318|    Tim Burton|     1958|       \\N|producer,miscella...|tt0099487,tt11429...|\n",
      "| tt0087291|nm0000318| nm0000318,nm0728125|nm0000318|    Tim Burton|     1958|       \\N|producer,miscella...|tt0099487,tt11429...|\n",
      "| tt0089791|nm0000318|nm0367005,nm00006...|nm0000318|    Tim Burton|     1958|       \\N|producer,miscella...|tt0099487,tt11429...|\n",
      "| tt0094721|nm0000318|nm0568313,nm09337...|nm0000318|    Tim Burton|     1958|       \\N|producer,miscella...|tt0099487,tt11429...|\n",
      "+----------+---------+--------------------+---------+--------------+---------+---------+--------------------+--------------------+\n",
      "only showing top 20 rows\n",
      "\n"
     ]
    },
    {
     "name": "stderr",
     "output_type": "stream",
     "text": [
      "                                                                                \r"
     ]
    }
   ],
   "source": [
    "directors.show()"
   ]
  },
  {
   "cell_type": "code",
   "execution_count": 10,
   "metadata": {},
   "outputs": [],
   "source": [
    "links = raw_links.select(F.col(\"movieId\"), F.concat(F.lit(\"tt\"), F.col(\"imdbId\")).alias(\"tconst\"))"
   ]
  },
  {
   "cell_type": "code",
   "execution_count": 11,
   "metadata": {},
   "outputs": [],
   "source": [
    "movies = directors.join(links, on=\"tconst\", how=\"inner\").join(raw_movies, on=\"movieId\", how=\"inner\")"
   ]
  },
  {
   "cell_type": "code",
   "execution_count": null,
   "metadata": {},
   "outputs": [],
   "source": [
    "movies = movies.select(\"*\", F.split(\"genres\", r\"\\|\").alias(\"genres_array\")).select(\n",
    "    F.col(\"movieId\").alias(\"movie_id\"),\n",
    "    \"title\",\n",
    "    F.explode(\"genres_array\").alias(\"genres\"),\n",
    "    F.col(\"primaryName\").alias(\"director_name\"),\n",
    "    \"tconst\"\n",
    ")"
   ]
  },
  {
   "cell_type": "code",
   "execution_count": 6,
   "metadata": {},
   "outputs": [
    {
     "name": "stderr",
     "output_type": "stream",
     "text": [
      "                                                                                \r"
     ]
    },
    {
     "data": {
      "text/plain": [
       "19923"
      ]
     },
     "execution_count": 6,
     "metadata": {},
     "output_type": "execute_result"
    }
   ],
   "source": [
    "movies.count()"
   ]
  },
  {
   "cell_type": "markdown",
   "metadata": {},
   "source": [
    "### Write primary movies dataset"
   ]
  },
  {
   "cell_type": "code",
   "execution_count": null,
   "metadata": {},
   "outputs": [],
   "source": [
    "movies.write.option(\"header\", True).csv(\"../data/results/prm_movies\")"
   ]
  },
  {
   "cell_type": "code",
   "execution_count": 5,
   "metadata": {},
   "outputs": [
    {
     "name": "stderr",
     "output_type": "stream",
     "text": [
      "                                                                                \r"
     ]
    }
   ],
   "source": [
    "movies = spark.read.option(\"header\", True).format(\"csv\").load(\"../data/results/\" + \"prm_movies\")"
   ]
  },
  {
   "cell_type": "markdown",
   "metadata": {},
   "source": [
    "# Generate master graph data table"
   ]
  },
  {
   "cell_type": "code",
   "execution_count": 23,
   "metadata": {},
   "outputs": [],
   "source": [
    "graph_mdt = movies.join(\n",
    "    raw_ratings.select(\n",
    "        F.col(\"userId\").alias(\"user_id\"),\n",
    "        F.col(\"movieId\").alias(\"movie_id\"),\n",
    "        \"rating\"\n",
    "    ),\n",
    "    on=\"movie_id\",\n",
    "    how=\"inner\"\n",
    ")"
   ]
  },
  {
   "cell_type": "code",
   "execution_count": 26,
   "metadata": {},
   "outputs": [
    {
     "name": "stdout",
     "output_type": "stream",
     "text": [
      "+--------+--------------------+---------+----------------+-------+------+\n",
      "|movie_id|               title|   genres|   director_name|user_id|rating|\n",
      "+--------+--------------------+---------+----------------+-------+------+\n",
      "|       1|    Toy Story (1995)|  Fantasy|   John Lasseter|      1|   4.0|\n",
      "|       1|    Toy Story (1995)|   Comedy|   John Lasseter|      1|   4.0|\n",
      "|       1|    Toy Story (1995)| Children|   John Lasseter|      1|   4.0|\n",
      "|       1|    Toy Story (1995)|Animation|   John Lasseter|      1|   4.0|\n",
      "|       1|    Toy Story (1995)|Adventure|   John Lasseter|      1|   4.0|\n",
      "|       3|Grumpier Old Men ...|  Romance|   Howard Deutch|      1|   4.0|\n",
      "|       3|Grumpier Old Men ...|   Comedy|   Howard Deutch|      1|   4.0|\n",
      "|       6|         Heat (1995)| Thriller|    Michael Mann|      1|   4.0|\n",
      "|       6|         Heat (1995)|    Crime|    Michael Mann|      1|   4.0|\n",
      "|       6|         Heat (1995)|   Action|    Michael Mann|      1|   4.0|\n",
      "|      47|Seven (a.k.a. Se7...| Thriller|   David Fincher|      1|   5.0|\n",
      "|      47|Seven (a.k.a. Se7...|  Mystery|   David Fincher|      1|   5.0|\n",
      "|      50|Usual Suspects, T...| Thriller|    Bryan Singer|      1|   5.0|\n",
      "|      50|Usual Suspects, T...|  Mystery|    Bryan Singer|      1|   5.0|\n",
      "|      50|Usual Suspects, T...|    Crime|    Bryan Singer|      1|   5.0|\n",
      "|      70|From Dusk Till Da...| Thriller|Robert Rodriguez|      1|   3.0|\n",
      "|      70|From Dusk Till Da...|   Horror|Robert Rodriguez|      1|   3.0|\n",
      "|      70|From Dusk Till Da...|   Comedy|Robert Rodriguez|      1|   3.0|\n",
      "|      70|From Dusk Till Da...|   Action|Robert Rodriguez|      1|   3.0|\n",
      "|     101|Bottle Rocket (1996)|  Romance|    Wes Anderson|      1|   5.0|\n",
      "+--------+--------------------+---------+----------------+-------+------+\n",
      "only showing top 20 rows\n",
      "\n"
     ]
    }
   ],
   "source": [
    "graph_mdt.show()"
   ]
  },
  {
   "cell_type": "markdown",
   "metadata": {},
   "source": [
    "# Profiling data"
   ]
  },
  {
   "cell_type": "code",
   "execution_count": 99,
   "metadata": {},
   "outputs": [
    {
     "name": "stderr",
     "output_type": "stream",
     "text": [
      "                                                                                \r"
     ]
    }
   ],
   "source": [
    "graph_mdt_pd = graph_mdt.toPandas()"
   ]
  },
  {
   "cell_type": "code",
   "execution_count": 11,
   "metadata": {},
   "outputs": [
    {
     "data": {
      "application/vnd.jupyter.widget-view+json": {
       "model_id": "558280a7c6d34bd5be1bb61d44e69d66",
       "version_major": 2,
       "version_minor": 0
      },
      "text/plain": [
       "Summarize dataset:   0%|          | 0/5 [00:00<?, ?it/s]"
      ]
     },
     "metadata": {},
     "output_type": "display_data"
    },
    {
     "name": "stderr",
     "output_type": "stream",
     "text": [
      "/home/emil/anaconda3/envs/RS-T2/lib/python3.10/site-packages/ydata_profiling/model/correlations.py:66: UserWarning: There was an attempt to calculate the auto correlation, but this failed.\n",
      "To hide this warning, disable the calculation\n",
      "(using `df.profile_report(correlations={\"auto\": {\"calculate\": False}})`\n",
      "If this is problematic for your use case, please report this as an issue:\n",
      "https://github.com/ydataai/ydata-profiling/issues\n",
      "(include the error message: 'could not convert string to float: 'Fantasy'')\n",
      "  warnings.warn(\n"
     ]
    },
    {
     "data": {
      "application/vnd.jupyter.widget-view+json": {
       "model_id": "7168737272bc4c2f84f444b356b33c3f",
       "version_major": 2,
       "version_minor": 0
      },
      "text/plain": [
       "Generate report structure:   0%|          | 0/1 [00:00<?, ?it/s]"
      ]
     },
     "metadata": {},
     "output_type": "display_data"
    },
    {
     "data": {
      "application/vnd.jupyter.widget-view+json": {
       "model_id": "4b3ed58f49404eeb939a27258d0fdfd9",
       "version_major": 2,
       "version_minor": 0
      },
      "text/plain": [
       "Render HTML:   0%|          | 0/1 [00:00<?, ?it/s]"
      ]
     },
     "metadata": {},
     "output_type": "display_data"
    },
    {
     "data": {
      "application/vnd.jupyter.widget-view+json": {
       "model_id": "2497f117eb3542cc9e70df14a2bdaa6e",
       "version_major": 2,
       "version_minor": 0
      },
      "text/plain": [
       "Export report to file:   0%|          | 0/1 [00:00<?, ?it/s]"
      ]
     },
     "metadata": {},
     "output_type": "display_data"
    }
   ],
   "source": [
    "# Generate the data profiling report \n",
    "report = ProfileReport(graph_mdt_pd, title='MovieLens dataset')\n",
    "report.to_file(\"my_report.html\")"
   ]
  },
  {
   "cell_type": "markdown",
   "metadata": {},
   "source": [
    "# Write to Neo4J"
   ]
  },
  {
   "cell_type": "code",
   "execution_count": 9,
   "metadata": {},
   "outputs": [],
   "source": [
    "graph_mdt = spark.read.option(\"header\", True).format(\"csv\").load(\"data/results/\" + \"graph_mdt\")"
   ]
  },
  {
   "cell_type": "code",
   "execution_count": null,
   "metadata": {},
   "outputs": [],
   "source": [
    "graph_mdt = graph_mdt.withColumnRenamed(\"genres\", \"genre\")"
   ]
  },
  {
   "cell_type": "code",
   "execution_count": 8,
   "metadata": {},
   "outputs": [
    {
     "data": {
      "text/plain": [
       "DataFrame[movie_id: string, title: string, genre: string, director_name: string, user_id: string, rating: string]"
      ]
     },
     "execution_count": 8,
     "metadata": {},
     "output_type": "execute_result"
    }
   ],
   "source": [
    "graph_mdt.select()"
   ]
  },
  {
   "cell_type": "markdown",
   "metadata": {},
   "source": [
    "### Write user nodes"
   ]
  },
  {
   "cell_type": "code",
   "execution_count": 4,
   "metadata": {},
   "outputs": [
    {
     "name": "stderr",
     "output_type": "stream",
     "text": [
      "                                                                                \r"
     ]
    }
   ],
   "source": [
    "\n",
    "graph_mdt.select(\"user_id\").distinct().write \\\n",
    "    .format(\"org.neo4j.spark.DataSource\") \\\n",
    "    .mode(\"Overwrite\") \\\n",
    "    .option(\"labels\", \":User\") \\\n",
    "    .option(\"node.keys\", \"user_id\") \\\n",
    "    .save()"
   ]
  },
  {
   "cell_type": "markdown",
   "metadata": {},
   "source": [
    "### Write movies with its director"
   ]
  },
  {
   "cell_type": "code",
   "execution_count": null,
   "metadata": {},
   "outputs": [],
   "source": [
    "graph_mdt.select(\"movie_id\", \"director_name\").distinct().write \\\n",
    "    .format(\"org.neo4j.spark.DataSource\") \\\n",
    "    .mode(\"Overwrite\") \\\n",
    "    .option(\"labels\", \":Movie\") \\\n",
    "    .option(\"node.keys\", \"movie_id\") \\\n",
    "    .option(\"node.properties\", \"director\") \\\n",
    "    .save()"
   ]
  },
  {
   "cell_type": "markdown",
   "metadata": {},
   "source": [
    "### Write genres"
   ]
  },
  {
   "cell_type": "code",
   "execution_count": 6,
   "metadata": {},
   "outputs": [
    {
     "name": "stderr",
     "output_type": "stream",
     "text": [
      "                                                                                \r"
     ]
    }
   ],
   "source": [
    "graph_mdt.select(\"genre\").distinct().write \\\n",
    "    .format(\"org.neo4j.spark.DataSource\") \\\n",
    "    .mode(\"Overwrite\") \\\n",
    "    .option(\"labels\", \":Genre\") \\\n",
    "    .option(\"node.keys\", \"genre\") \\\n",
    "    .save()"
   ]
  },
  {
   "cell_type": "markdown",
   "metadata": {},
   "source": [
    "### Generate relationships"
   ]
  },
  {
   "cell_type": "code",
   "execution_count": 7,
   "metadata": {},
   "outputs": [
    {
     "name": "stderr",
     "output_type": "stream",
     "text": [
      "                                                                                \r"
     ]
    }
   ],
   "source": [
    "graph_mdt.write \\\n",
    "    .format(\"org.neo4j.spark.DataSource\") \\\n",
    "    .mode(\"Overwrite\") \\\n",
    "    .option(\"relationship\", \"BELONGS_TO\") \\\n",
    "    .option(\"relationship.save.strategy\", \"keys\") \\\n",
    "    .option(\"relationship.source.labels\", \":Movie\") \\\n",
    "    .option(\"relationship.source.save.mode\", \"match\") \\\n",
    "    .option(\"relationship.source.node.keys\", \"movie_id\") \\\n",
    "    .option(\"relationship.target.labels\", \":Genre\") \\\n",
    "    .option(\"relationship.target.save.mode\", \"match\") \\\n",
    "    .option(\"relationship.target.node.keys\", \"genre\") \\\n",
    "    .save()"
   ]
  },
  {
   "cell_type": "code",
   "execution_count": 11,
   "metadata": {},
   "outputs": [
    {
     "name": "stderr",
     "output_type": "stream",
     "text": [
      "                                                                                \r"
     ]
    }
   ],
   "source": [
    "graph_mdt.select(\"movie_id\", \"user_id\", F.col(\"rating\").cast(\"float\")).write \\\n",
    "    .format(\"org.neo4j.spark.DataSource\") \\\n",
    "    .mode(\"Overwrite\") \\\n",
    "    .option(\"relationship\", \"RATED\") \\\n",
    "    .option(\"relationship.save.strategy\", \"keys\") \\\n",
    "    .option(\"relationship.source.labels\", \":User\") \\\n",
    "    .option(\"relationship.source.save.mode\", \"match\") \\\n",
    "    .option(\"relationship.source.node.keys\", \"user_id\") \\\n",
    "    .option(\"relationship.target.labels\", \":Movie\") \\\n",
    "    .option(\"relationship.target.save.mode\", \"match\") \\\n",
    "    .option(\"relationship.target.node.keys\", \"movie_id\") \\\n",
    "    .option(\"relationship.properties\", \"rating\") \\\n",
    "    .save()"
   ]
  },
  {
   "cell_type": "markdown",
   "metadata": {},
   "source": [
    "# Generate recomendations for especific users"
   ]
  },
  {
   "cell_type": "code",
   "execution_count": 13,
   "metadata": {},
   "outputs": [],
   "source": [
    "URI = url\n",
    "AUTH = (username, password)\n",
    "\n",
    "with GraphDatabase.driver(URI, auth=AUTH) as driver:\n",
    "    driver.verify_connectivity()"
   ]
  },
  {
   "cell_type": "code",
   "execution_count": 29,
   "metadata": {},
   "outputs": [
    {
     "name": "stderr",
     "output_type": "stream",
     "text": [
      "/tmp/ipykernel_636759/1480557147.py:12: DeprecationWarning: Using a driver after it has been closed is deprecated. Future versions of the driver will raise an error.\n",
      "  records, summary, keys = driver.execute_query(\n"
     ]
    }
   ],
   "source": [
    "user_id = \"101\"\n",
    "\n",
    "collaborative_filtering_query = (\n",
    "    'MATCH (u:User {user_id: \"' + user_id + '\"})-[s:SIMILARITY]-(other:User)-[r:RATED]->(m:Movie)'\n",
    "    + \"\"\"WHERE NOT EXISTS { MATCH (u)-[:RATED]->(m) }\n",
    "    WITH m, other, toFloat(r.rating) AS otherRating, s.pearsonSimilarity AS similarity\n",
    "    WITH m, AVG(otherRating * similarity) AS weightedRating, SUM(similarity) AS sumSimilarity\n",
    "    RETURN m.movie_id, sumSimilarity\n",
    "    LIMIT 10;\"\"\"\n",
    ")\n",
    "\n",
    "records, summary, keys = driver.execute_query(\n",
    "    collaborative_filtering_query,\n",
    "    database_=\"neo4j\",\n",
    ")"
   ]
  },
  {
   "cell_type": "code",
   "execution_count": 28,
   "metadata": {},
   "outputs": [
    {
     "name": "stderr",
     "output_type": "stream",
     "text": [
      "/tmp/ipykernel_636759/1538916520.py:1: DeprecationWarning: Using a driver after it has been closed is deprecated. Future versions of the driver will raise an error.\n",
      "  records, summary, keys = driver.execute_query(\n"
     ]
    }
   ],
   "source": [
    "records, summary, keys = driver.execute_query(\n",
    "    \"MATCH (p:Person) RETURN p.name AS name\",\n",
    "    database_=\"neo4j\",\n",
    ")"
   ]
  },
  {
   "cell_type": "code",
   "execution_count": 30,
   "metadata": {},
   "outputs": [
    {
     "data": {
      "text/plain": [
       "[<Record m.movie_id='3614' sumSimilarity=2.928196250589005>,\n",
       " <Record m.movie_id='2279' sumSimilarity=2.3929466346818287>,\n",
       " <Record m.movie_id='3255' sumSimilarity=11.097124437173987>,\n",
       " <Record m.movie_id='1267' sumSimilarity=9.852849699088182>,\n",
       " <Record m.movie_id='3785' sumSimilarity=16.77899487438135>,\n",
       " <Record m.movie_id='2133' sumSimilarity=6.294573285313581>,\n",
       " <Record m.movie_id='2374' sumSimilarity=2.912493038391483>,\n",
       " <Record m.movie_id='1834' sumSimilarity=4.197096829465944>,\n",
       " <Record m.movie_id='35836' sumSimilarity=18.055773480346314>,\n",
       " <Record m.movie_id='4293' sumSimilarity=1.823615287233232>]"
      ]
     },
     "execution_count": 30,
     "metadata": {},
     "output_type": "execute_result"
    }
   ],
   "source": [
    "records"
   ]
  },
  {
   "cell_type": "code",
   "execution_count": 23,
   "metadata": {},
   "outputs": [
    {
     "data": {
      "text/plain": [
       "<neo4j._work.summary.ResultSummary at 0x73d3b41f3b50>"
      ]
     },
     "execution_count": 23,
     "metadata": {},
     "output_type": "execute_result"
    }
   ],
   "source": [
    "summary"
   ]
  },
  {
   "cell_type": "code",
   "execution_count": 24,
   "metadata": {},
   "outputs": [
    {
     "data": {
      "text/plain": [
       "['m.movie_id', 'sumSimilarity']"
      ]
     },
     "execution_count": 24,
     "metadata": {},
     "output_type": "execute_result"
    }
   ],
   "source": [
    "keys"
   ]
  },
  {
   "cell_type": "markdown",
   "metadata": {},
   "source": [
    "# Generate recommendations for new users"
   ]
  },
  {
   "cell_type": "code",
   "execution_count": 90,
   "metadata": {},
   "outputs": [],
   "source": [
    "# It will be defined a function wich calculates a Bayesian Score\n",
    "# https://www.evanmiller.org/ranking-items-with-star-ratings.html\n",
    "# so as to compare a raking made by this score and mean score\n",
    "def bayesian_score(ratings, confidence=0.95):\n",
    "    \"\"\"\n",
    "      Function to calculate wilson score for N star rating system.\n",
    "\n",
    "      params:\n",
    "        ratings (list):\n",
    "          Count of star ratings where ith index represent the votes for that category i.e. [3, 5, 6, 7, 10]\n",
    "          First value are califications with 1 star, second with 2 and so on...\n",
    "        confidence (int): Confidence interval\n",
    "      returns:\n",
    "        score (float): Bayesian score value\n",
    "    \"\"\"\n",
    "    # If there is no ratings to analize, returns a Beyesian score of zero\n",
    "    if sum(ratings) == 0:\n",
    "        return 0\n",
    "\n",
    "    # Define necessary expressions\n",
    "    rating_scale = len(ratings)\n",
    "    z = st.norm.ppf(1 - (1 - confidence) / 2)\n",
    "    ratings_sum = sum(ratings)\n",
    "    first_expr = 0.0\n",
    "    second_expr = 0.0\n",
    "\n",
    "    # Calculates Bayesian score\n",
    "    for k in range(len(ratings)):\n",
    "        first_expr += (k + 1)*(ratings[k] + 1) / (ratings_sum + rating_scale)\n",
    "        second_expr += (k + 1)*(k + 1)*(ratings[k] + 1) / (ratings_sum + rating_scale)\n",
    "    score = first_expr - z * math.sqrt(\n",
    "        (second_expr - first_expr*first_expr) / (ratings_sum + rating_scale + 1)\n",
    "      )\n",
    "\n",
    "    return score"
   ]
  },
  {
   "cell_type": "code",
   "execution_count": 26,
   "metadata": {},
   "outputs": [],
   "source": [
    "ratings = graph_mdt.select(\"movie_id\", \"rating\")"
   ]
  },
  {
   "cell_type": "code",
   "execution_count": 45,
   "metadata": {},
   "outputs": [
    {
     "data": {
      "text/plain": [
       "DataFrame[movie_id: string, rating: string]"
      ]
     },
     "execution_count": 45,
     "metadata": {},
     "output_type": "execute_result"
    }
   ],
   "source": [
    "ratings"
   ]
  },
  {
   "cell_type": "code",
   "execution_count": 31,
   "metadata": {},
   "outputs": [
    {
     "name": "stderr",
     "output_type": "stream",
     "text": [
      "[Stage 3:============================================>              (3 + 1) / 4]\r"
     ]
    },
    {
     "name": "stdout",
     "output_type": "stream",
     "text": [
      "+------+\n",
      "|rating|\n",
      "+------+\n",
      "|   1.0|\n",
      "|   4.5|\n",
      "|   2.5|\n",
      "|   3.5|\n",
      "|   5.0|\n",
      "|   0.5|\n",
      "|   4.0|\n",
      "|   1.5|\n",
      "|   2.0|\n",
      "|   3.0|\n",
      "+------+\n",
      "\n"
     ]
    },
    {
     "name": "stderr",
     "output_type": "stream",
     "text": [
      "                                                                                \r"
     ]
    }
   ],
   "source": [
    "ratings.select(\"rating\").distinct().show()"
   ]
  },
  {
   "cell_type": "code",
   "execution_count": 46,
   "metadata": {},
   "outputs": [],
   "source": [
    "dfs_by_rating = []\n",
    "\n",
    "rating_scale = [str(i/2) for i in range(1, 11, 1)]\n",
    "\n",
    "rating_scale_labels = []\n",
    "\n",
    "for rating in rating_scale:\n",
    "  rating_label = rating.replace(\".\", \",\")\n",
    "  df = ratings.filter(\n",
    "    f\"rating == '{rating}'\"\n",
    "  ).groupBy(\"movie_id\").agg(F.count(\"rating\").alias(f\"number_rating_{rating_label}\"))\n",
    "  dfs_by_rating.append(df)\n",
    "  rating_scale_labels.append(rating_label)\n",
    "\n",
    "df = reduce(lambda x, y: x.unionByName(y, allowMissingColumns=True), dfs_by_rating)\n",
    "df = df.fillna(0)\n",
    "\n",
    "df = df.select(\n",
    "  \"*\",\n",
    "  F.array([f\"number_rating_{rating_label}\" for rating_label in rating_scale_labels]).alias(\"list_of_scores\")\n",
    ")"
   ]
  },
  {
   "cell_type": "code",
   "execution_count": 47,
   "metadata": {},
   "outputs": [
    {
     "name": "stderr",
     "output_type": "stream",
     "text": [
      "[Stage 36:===========================================>              (3 + 1) / 4]\r"
     ]
    },
    {
     "name": "stdout",
     "output_type": "stream",
     "text": [
      "+--------+-----------------+-----------------+-----------------+-----------------+-----------------+-----------------+-----------------+-----------------+-----------------+-----------------+--------------------+\n",
      "|movie_id|number_rating_0,5|number_rating_1,0|number_rating_1,5|number_rating_2,0|number_rating_2,5|number_rating_3,0|number_rating_3,5|number_rating_4,0|number_rating_4,5|number_rating_5,0|      list_of_scores|\n",
      "+--------+-----------------+-----------------+-----------------+-----------------+-----------------+-----------------+-----------------+-----------------+-----------------+-----------------+--------------------+\n",
      "|    3210|                3|                0|                0|                0|                0|                0|                0|                0|                0|                0|[3, 0, 0, 0, 0, 0...|\n",
      "|    4821|                2|                0|                0|                0|                0|                0|                0|                0|                0|                0|[2, 0, 0, 0, 0, 0...|\n",
      "|  115713|                3|                0|                0|                0|                0|                0|                0|                0|                0|                0|[3, 0, 0, 0, 0, 0...|\n",
      "|     296|                8|                0|                0|                0|                0|                0|                0|                0|                0|                0|[8, 0, 0, 0, 0, 0...|\n",
      "|    2136|                2|                0|                0|                0|                0|                0|                0|                0|                0|                0|[2, 0, 0, 0, 0, 0...|\n",
      "|    2393|                8|                0|                0|                0|                0|                0|                0|                0|                0|                0|[8, 0, 0, 0, 0, 0...|\n",
      "|    4975|                4|                0|                0|                0|                0|                0|                0|                0|                0|                0|[4, 0, 0, 0, 0, 0...|\n",
      "|    3949|                4|                0|                0|                0|                0|                0|                0|                0|                0|                0|[4, 0, 0, 0, 0, 0...|\n",
      "|   56171|                3|                0|                0|                0|                0|                0|                0|                0|                0|                0|[3, 0, 0, 0, 0, 0...|\n",
      "|    5048|                6|                0|                0|                0|                0|                0|                0|                0|                0|                0|[6, 0, 0, 0, 0, 0...|\n",
      "|    6464|                2|                0|                0|                0|                0|                0|                0|                0|                0|                0|[2, 0, 0, 0, 0, 0...|\n",
      "|   30749|                4|                0|                0|                0|                0|                0|                0|                0|                0|                0|[4, 0, 0, 0, 0, 0...|\n",
      "|    2808|                4|                0|                0|                0|                0|                0|                0|                0|                0|                0|[4, 0, 0, 0, 0, 0...|\n",
      "|    6264|                8|                0|                0|                0|                0|                0|                0|                0|                0|                0|[8, 0, 0, 0, 0, 0...|\n",
      "|     647|                4|                0|                0|                0|                0|                0|                0|                0|                0|                0|[4, 0, 0, 0, 0, 0...|\n",
      "|    1485|                3|                0|                0|                0|                0|                0|                0|                0|                0|                0|[3, 0, 0, 0, 0, 0...|\n",
      "|  110773|                2|                0|                0|                0|                0|                0|                0|                0|                0|                0|[2, 0, 0, 0, 0, 0...|\n",
      "|    2953|                6|                0|                0|                0|                0|                0|                0|                0|                0|                0|[6, 0, 0, 0, 0, 0...|\n",
      "|    2720|               16|                0|                0|                0|                0|                0|                0|                0|                0|                0|[16, 0, 0, 0, 0, ...|\n",
      "|   31878|                4|                0|                0|                0|                0|                0|                0|                0|                0|                0|[4, 0, 0, 0, 0, 0...|\n",
      "+--------+-----------------+-----------------+-----------------+-----------------+-----------------+-----------------+-----------------+-----------------+-----------------+-----------------+--------------------+\n",
      "only showing top 20 rows\n",
      "\n"
     ]
    },
    {
     "name": "stderr",
     "output_type": "stream",
     "text": [
      "                                                                                \r"
     ]
    }
   ],
   "source": [
    "df.show()"
   ]
  },
  {
   "cell_type": "code",
   "execution_count": 91,
   "metadata": {},
   "outputs": [],
   "source": [
    "# @udf(\"double\")\n",
    "# def bayesian_score_udf(s: pd.Series) -> float:\n",
    "#     rating =  bayesian_score(list(s))\n",
    "#     return rating\n",
    "\n",
    "bayesian_score_udf = udf(\n",
    "    lambda array_of_ratings: bayesian_score(array_of_ratings), T.LongType()\n",
    ")"
   ]
  },
  {
   "cell_type": "code",
   "execution_count": 86,
   "metadata": {},
   "outputs": [
    {
     "name": "stderr",
     "output_type": "stream",
     "text": [
      "                                                                                \r"
     ]
    }
   ],
   "source": [
    "bayesian_score_pd = df.toPandas()"
   ]
  },
  {
   "cell_type": "code",
   "execution_count": 101,
   "metadata": {},
   "outputs": [
    {
     "data": {
      "text/html": [
       "<div>\n",
       "<style scoped>\n",
       "    .dataframe tbody tr th:only-of-type {\n",
       "        vertical-align: middle;\n",
       "    }\n",
       "\n",
       "    .dataframe tbody tr th {\n",
       "        vertical-align: top;\n",
       "    }\n",
       "\n",
       "    .dataframe thead th {\n",
       "        text-align: right;\n",
       "    }\n",
       "</style>\n",
       "<table border=\"1\" class=\"dataframe\">\n",
       "  <thead>\n",
       "    <tr style=\"text-align: right;\">\n",
       "      <th></th>\n",
       "      <th>movie_id</th>\n",
       "      <th>number_rating_0,5</th>\n",
       "      <th>number_rating_1,0</th>\n",
       "      <th>number_rating_1,5</th>\n",
       "      <th>number_rating_2,0</th>\n",
       "      <th>number_rating_2,5</th>\n",
       "      <th>number_rating_3,0</th>\n",
       "      <th>number_rating_3,5</th>\n",
       "      <th>number_rating_4,0</th>\n",
       "      <th>number_rating_4,5</th>\n",
       "      <th>number_rating_5,0</th>\n",
       "      <th>list_of_scores</th>\n",
       "      <th>bayesian_score</th>\n",
       "    </tr>\n",
       "  </thead>\n",
       "  <tbody>\n",
       "    <tr>\n",
       "      <th>0</th>\n",
       "      <td>3210</td>\n",
       "      <td>3</td>\n",
       "      <td>0</td>\n",
       "      <td>0</td>\n",
       "      <td>0</td>\n",
       "      <td>0</td>\n",
       "      <td>0</td>\n",
       "      <td>0</td>\n",
       "      <td>0</td>\n",
       "      <td>0</td>\n",
       "      <td>0</td>\n",
       "      <td>[3, 0, 0, 0, 0, 0, 0, 0, 0, 0]</td>\n",
       "      <td>2.809975</td>\n",
       "    </tr>\n",
       "    <tr>\n",
       "      <th>1</th>\n",
       "      <td>4821</td>\n",
       "      <td>2</td>\n",
       "      <td>0</td>\n",
       "      <td>0</td>\n",
       "      <td>0</td>\n",
       "      <td>0</td>\n",
       "      <td>0</td>\n",
       "      <td>0</td>\n",
       "      <td>0</td>\n",
       "      <td>0</td>\n",
       "      <td>0</td>\n",
       "      <td>[2, 0, 0, 0, 0, 0, 0, 0, 0, 0]</td>\n",
       "      <td>3.058070</td>\n",
       "    </tr>\n",
       "    <tr>\n",
       "      <th>2</th>\n",
       "      <td>115713</td>\n",
       "      <td>3</td>\n",
       "      <td>0</td>\n",
       "      <td>0</td>\n",
       "      <td>0</td>\n",
       "      <td>0</td>\n",
       "      <td>0</td>\n",
       "      <td>0</td>\n",
       "      <td>0</td>\n",
       "      <td>0</td>\n",
       "      <td>0</td>\n",
       "      <td>[3, 0, 0, 0, 0, 0, 0, 0, 0, 0]</td>\n",
       "      <td>2.809975</td>\n",
       "    </tr>\n",
       "    <tr>\n",
       "      <th>3</th>\n",
       "      <td>296</td>\n",
       "      <td>8</td>\n",
       "      <td>0</td>\n",
       "      <td>0</td>\n",
       "      <td>0</td>\n",
       "      <td>0</td>\n",
       "      <td>0</td>\n",
       "      <td>0</td>\n",
       "      <td>0</td>\n",
       "      <td>0</td>\n",
       "      <td>0</td>\n",
       "      <td>[8, 0, 0, 0, 0, 0, 0, 0, 0, 0]</td>\n",
       "      <td>2.108031</td>\n",
       "    </tr>\n",
       "    <tr>\n",
       "      <th>4</th>\n",
       "      <td>2136</td>\n",
       "      <td>2</td>\n",
       "      <td>0</td>\n",
       "      <td>0</td>\n",
       "      <td>0</td>\n",
       "      <td>0</td>\n",
       "      <td>0</td>\n",
       "      <td>0</td>\n",
       "      <td>0</td>\n",
       "      <td>0</td>\n",
       "      <td>0</td>\n",
       "      <td>[2, 0, 0, 0, 0, 0, 0, 0, 0, 0]</td>\n",
       "      <td>3.058070</td>\n",
       "    </tr>\n",
       "    <tr>\n",
       "      <th>...</th>\n",
       "      <td>...</td>\n",
       "      <td>...</td>\n",
       "      <td>...</td>\n",
       "      <td>...</td>\n",
       "      <td>...</td>\n",
       "      <td>...</td>\n",
       "      <td>...</td>\n",
       "      <td>...</td>\n",
       "      <td>...</td>\n",
       "      <td>...</td>\n",
       "      <td>...</td>\n",
       "      <td>...</td>\n",
       "      <td>...</td>\n",
       "    </tr>\n",
       "    <tr>\n",
       "      <th>27940</th>\n",
       "      <td>2677</td>\n",
       "      <td>0</td>\n",
       "      <td>0</td>\n",
       "      <td>0</td>\n",
       "      <td>0</td>\n",
       "      <td>0</td>\n",
       "      <td>0</td>\n",
       "      <td>0</td>\n",
       "      <td>0</td>\n",
       "      <td>0</td>\n",
       "      <td>2</td>\n",
       "      <td>[0, 0, 0, 0, 0, 0, 0, 0, 0, 2]</td>\n",
       "      <td>4.558070</td>\n",
       "    </tr>\n",
       "    <tr>\n",
       "      <th>27941</th>\n",
       "      <td>3093</td>\n",
       "      <td>0</td>\n",
       "      <td>0</td>\n",
       "      <td>0</td>\n",
       "      <td>0</td>\n",
       "      <td>0</td>\n",
       "      <td>0</td>\n",
       "      <td>0</td>\n",
       "      <td>0</td>\n",
       "      <td>0</td>\n",
       "      <td>2</td>\n",
       "      <td>[0, 0, 0, 0, 0, 0, 0, 0, 0, 2]</td>\n",
       "      <td>4.558070</td>\n",
       "    </tr>\n",
       "    <tr>\n",
       "      <th>27942</th>\n",
       "      <td>5957</td>\n",
       "      <td>0</td>\n",
       "      <td>0</td>\n",
       "      <td>0</td>\n",
       "      <td>0</td>\n",
       "      <td>0</td>\n",
       "      <td>0</td>\n",
       "      <td>0</td>\n",
       "      <td>0</td>\n",
       "      <td>0</td>\n",
       "      <td>2</td>\n",
       "      <td>[0, 0, 0, 0, 0, 0, 0, 0, 0, 2]</td>\n",
       "      <td>4.558070</td>\n",
       "    </tr>\n",
       "    <tr>\n",
       "      <th>27943</th>\n",
       "      <td>8643</td>\n",
       "      <td>0</td>\n",
       "      <td>0</td>\n",
       "      <td>0</td>\n",
       "      <td>0</td>\n",
       "      <td>0</td>\n",
       "      <td>0</td>\n",
       "      <td>0</td>\n",
       "      <td>0</td>\n",
       "      <td>0</td>\n",
       "      <td>2</td>\n",
       "      <td>[0, 0, 0, 0, 0, 0, 0, 0, 0, 2]</td>\n",
       "      <td>4.558070</td>\n",
       "    </tr>\n",
       "    <tr>\n",
       "      <th>27944</th>\n",
       "      <td>2367</td>\n",
       "      <td>0</td>\n",
       "      <td>0</td>\n",
       "      <td>0</td>\n",
       "      <td>0</td>\n",
       "      <td>0</td>\n",
       "      <td>0</td>\n",
       "      <td>0</td>\n",
       "      <td>0</td>\n",
       "      <td>0</td>\n",
       "      <td>5</td>\n",
       "      <td>[0, 0, 0, 0, 0, 0, 0, 0, 0, 5]</td>\n",
       "      <td>5.450512</td>\n",
       "    </tr>\n",
       "  </tbody>\n",
       "</table>\n",
       "<p>27945 rows × 13 columns</p>\n",
       "</div>"
      ],
      "text/plain": [
       "      movie_id  number_rating_0,5  number_rating_1,0  number_rating_1,5  \\\n",
       "0         3210                  3                  0                  0   \n",
       "1         4821                  2                  0                  0   \n",
       "2       115713                  3                  0                  0   \n",
       "3          296                  8                  0                  0   \n",
       "4         2136                  2                  0                  0   \n",
       "...        ...                ...                ...                ...   \n",
       "27940     2677                  0                  0                  0   \n",
       "27941     3093                  0                  0                  0   \n",
       "27942     5957                  0                  0                  0   \n",
       "27943     8643                  0                  0                  0   \n",
       "27944     2367                  0                  0                  0   \n",
       "\n",
       "       number_rating_2,0  number_rating_2,5  number_rating_3,0  \\\n",
       "0                      0                  0                  0   \n",
       "1                      0                  0                  0   \n",
       "2                      0                  0                  0   \n",
       "3                      0                  0                  0   \n",
       "4                      0                  0                  0   \n",
       "...                  ...                ...                ...   \n",
       "27940                  0                  0                  0   \n",
       "27941                  0                  0                  0   \n",
       "27942                  0                  0                  0   \n",
       "27943                  0                  0                  0   \n",
       "27944                  0                  0                  0   \n",
       "\n",
       "       number_rating_3,5  number_rating_4,0  number_rating_4,5  \\\n",
       "0                      0                  0                  0   \n",
       "1                      0                  0                  0   \n",
       "2                      0                  0                  0   \n",
       "3                      0                  0                  0   \n",
       "4                      0                  0                  0   \n",
       "...                  ...                ...                ...   \n",
       "27940                  0                  0                  0   \n",
       "27941                  0                  0                  0   \n",
       "27942                  0                  0                  0   \n",
       "27943                  0                  0                  0   \n",
       "27944                  0                  0                  0   \n",
       "\n",
       "       number_rating_5,0                  list_of_scores  bayesian_score  \n",
       "0                      0  [3, 0, 0, 0, 0, 0, 0, 0, 0, 0]        2.809975  \n",
       "1                      0  [2, 0, 0, 0, 0, 0, 0, 0, 0, 0]        3.058070  \n",
       "2                      0  [3, 0, 0, 0, 0, 0, 0, 0, 0, 0]        2.809975  \n",
       "3                      0  [8, 0, 0, 0, 0, 0, 0, 0, 0, 0]        2.108031  \n",
       "4                      0  [2, 0, 0, 0, 0, 0, 0, 0, 0, 0]        3.058070  \n",
       "...                  ...                             ...             ...  \n",
       "27940                  2  [0, 0, 0, 0, 0, 0, 0, 0, 0, 2]        4.558070  \n",
       "27941                  2  [0, 0, 0, 0, 0, 0, 0, 0, 0, 2]        4.558070  \n",
       "27942                  2  [0, 0, 0, 0, 0, 0, 0, 0, 0, 2]        4.558070  \n",
       "27943                  2  [0, 0, 0, 0, 0, 0, 0, 0, 0, 2]        4.558070  \n",
       "27944                  5  [0, 0, 0, 0, 0, 0, 0, 0, 0, 5]        5.450512  \n",
       "\n",
       "[27945 rows x 13 columns]"
      ]
     },
     "execution_count": 101,
     "metadata": {},
     "output_type": "execute_result"
    }
   ],
   "source": [
    "bayesian_score_pd"
   ]
  },
  {
   "cell_type": "code",
   "execution_count": 95,
   "metadata": {},
   "outputs": [],
   "source": [
    "bayesian_score_pd[\"bayesian_score\"] = bayesian_score_pd[\"list_of_scores\"].apply(lambda x: bayesian_score(x))"
   ]
  },
  {
   "cell_type": "code",
   "execution_count": 103,
   "metadata": {},
   "outputs": [
    {
     "data": {
      "text/html": [
       "<div>\n",
       "<style scoped>\n",
       "    .dataframe tbody tr th:only-of-type {\n",
       "        vertical-align: middle;\n",
       "    }\n",
       "\n",
       "    .dataframe tbody tr th {\n",
       "        vertical-align: top;\n",
       "    }\n",
       "\n",
       "    .dataframe thead th {\n",
       "        text-align: right;\n",
       "    }\n",
       "</style>\n",
       "<table border=\"1\" class=\"dataframe\">\n",
       "  <thead>\n",
       "    <tr style=\"text-align: right;\">\n",
       "      <th></th>\n",
       "      <th>bayesian_score</th>\n",
       "      <th>movie_id</th>\n",
       "    </tr>\n",
       "  </thead>\n",
       "  <tbody>\n",
       "    <tr>\n",
       "      <th>25258</th>\n",
       "      <td>9.844979</td>\n",
       "      <td>296</td>\n",
       "    </tr>\n",
       "    <tr>\n",
       "      <th>25411</th>\n",
       "      <td>9.835856</td>\n",
       "      <td>356</td>\n",
       "    </tr>\n",
       "    <tr>\n",
       "      <th>26403</th>\n",
       "      <td>9.767409</td>\n",
       "      <td>2959</td>\n",
       "    </tr>\n",
       "    <tr>\n",
       "      <th>26668</th>\n",
       "      <td>9.758788</td>\n",
       "      <td>260</td>\n",
       "    </tr>\n",
       "    <tr>\n",
       "      <th>26439</th>\n",
       "      <td>9.754233</td>\n",
       "      <td>318</td>\n",
       "    </tr>\n",
       "  </tbody>\n",
       "</table>\n",
       "</div>"
      ],
      "text/plain": [
       "       bayesian_score movie_id\n",
       "25258        9.844979      296\n",
       "25411        9.835856      356\n",
       "26403        9.767409     2959\n",
       "26668        9.758788      260\n",
       "26439        9.754233      318"
      ]
     },
     "execution_count": 103,
     "metadata": {},
     "output_type": "execute_result"
    }
   ],
   "source": [
    "bayesian_score_pd[[\"bayesian_score\", \"movie_id\"]].sort_values(by=\"bayesian_score\", ascending=False)[]"
   ]
  },
  {
   "cell_type": "code",
   "execution_count": 113,
   "metadata": {},
   "outputs": [],
   "source": [
    "best_bayesian_score_movies = bayesian_score_pd[[\"bayesian_score\", \"movie_id\"]].sort_values(by=\"bayesian_score\", ascending=False).head(10)[\"movie_id\"].to_list()"
   ]
  },
  {
   "cell_type": "markdown",
   "metadata": {},
   "source": [
    "# Best bayesian scored movies"
   ]
  },
  {
   "cell_type": "code",
   "execution_count": 114,
   "metadata": {},
   "outputs": [
    {
     "name": "stderr",
     "output_type": "stream",
     "text": [
      "[Stage 227:==========================================>              (3 + 1) / 4]\r"
     ]
    },
    {
     "name": "stdout",
     "output_type": "stream",
     "text": [
      "+--------+-----------------------------------------------------+\n",
      "|movie_id|title                                                |\n",
      "+--------+-----------------------------------------------------+\n",
      "|593     |Silence of the Lambs, The (1991)                     |\n",
      "|1196    |Star Wars: Episode V - The Empire Strikes Back (1980)|\n",
      "|2959    |Fight Club (1999)                                    |\n",
      "|318     |Shawshank Redemption, The (1994)                     |\n",
      "|260     |Star Wars: Episode IV - A New Hope (1977)            |\n",
      "|110     |Braveheart (1995)                                    |\n",
      "|79132   |Inception (2010)                                     |\n",
      "|296     |Pulp Fiction (1994)                                  |\n",
      "|1197    |Princess Bride, The (1987)                           |\n",
      "|356     |Forrest Gump (1994)                                  |\n",
      "+--------+-----------------------------------------------------+\n",
      "\n"
     ]
    },
    {
     "name": "stderr",
     "output_type": "stream",
     "text": [
      "                                                                                \r"
     ]
    }
   ],
   "source": [
    "graph_mdt.select(\"movie_id\", \"title\").distinct().filter(F.col(\"movie_id\").isin(best_bayesian_score_movies)).show(truncate=False)"
   ]
  },
  {
   "cell_type": "markdown",
   "metadata": {},
   "source": [
    "### Neo4j queries"
   ]
  },
  {
   "cell_type": "code",
   "execution_count": null,
   "metadata": {},
   "outputs": [],
   "source": [
    "similarity_query = (\n",
    "    \"\"\"MATCH (u1:User)-[r1:RATED]->(m:Movie)<-[r2:RATED]-(u2:User)\n",
    "    WITH u1, u2, COLLECT({rating1: toFloat(r1.rating), rating2: toFloat(r2.rating)}) AS ratings\n",
    "    WHERE SIZE(ratings) > 1  // Necesitamos al menos dos películas en común\n",
    "    WITH u1, u2, ratings,\n",
    "        REDUCE(s = 0.0, x IN ratings | s + x.rating1 * x.rating2) AS dotProduct,\n",
    "        REDUCE(s = 0.0, x IN ratings | s + x.rating1) AS ratingSum1,\n",
    "        REDUCE(s = 0.0, x IN ratings | s + x.rating2) AS ratingSum2,\n",
    "        REDUCE(s = 0.0, x IN ratings | s + x.rating1 * x.rating1) AS ratingSqSum1,\n",
    "        REDUCE(s = 0.0, x IN ratings | s + x.rating2 * x.rating2) AS ratingSqSum2,\n",
    "        SIZE(ratings) AS numRatings\n",
    "    WITH u1, u2,\n",
    "        dotProduct,\n",
    "        ratingSum1, ratingSum2,\n",
    "        ratingSqSum1, ratingSqSum2,\n",
    "        numRatings,\n",
    "        (dotProduct - (ratingSum1 * ratingSum2 / numRatings)) AS numerator,\n",
    "        (sqrt(ratingSqSum1 - ratingSum1 * ratingSum1 / numRatings) * sqrt(ratingSqSum2 - ratingSum2 * ratingSum2 / numRatings)) AS denominator\n",
    "    WHERE denominator <> 0\n",
    "    MERGE (u1)-[s:SIMILARITY]-(u2)\n",
    "    SET s.pearsonSimilarity = numerator / denominator\"\"\"\n",
    ")"
   ]
  },
  {
   "cell_type": "code",
   "execution_count": 16,
   "metadata": {},
   "outputs": [],
   "source": [
    "user_id = \"\"\n",
    "\n",
    "collaborative_filtering_query = (\n",
    "    \"\"\"MATCH (u:User {user_id: \"\"\" + user_id + \"\"\"})-[s:SIMILARITY]-(other:User)-[r:RATED]->(m:Movie)\n",
    "    WHERE NOT EXISTS { MATCH (u)-[:RATED]->(m) }\n",
    "    WITH m, other, toFloat(r.rating) AS otherRating, s.pearsonSimilarity AS similarity\n",
    "    WITH m, AVG(otherRating * similarity) AS weightedRating, SUM(similarity) AS sumSimilarity\n",
    "    RETURN m.movie_id, sumSimilarity\n",
    "    LIMIT 10;\"\"\"\n",
    ")"
   ]
  },
  {
   "cell_type": "code",
   "execution_count": null,
   "metadata": {},
   "outputs": [],
   "source": [
    "ontology_filter_query = (\n",
    "    \"\"\"MATCH (u:User {user_id: \"\"\" + user_id + \"\"\"})-[:RATED]->(likedMovie:Movie)\n",
    "    MATCH (likedMovie)-[:BELONGS_TO]->(genre:Genre)<-[:BELONGS_TO]-(recommendedMovie:Movie)\n",
    "    MATCH (recommendedMovie)<-[:DIRECTED]-(director:Director)\n",
    "    WHERE NOT (u)-[:RATED]->(recommendedMovie)\n",
    "    RETURN DISTINCT recommendedMovie.title AS recommendedMovie, COLLECT(DISTINCT genre.name) AS genres, COLLECT(DISTINCT director.name) AS directors\"\"\"\n",
    "   \n",
    ")"
   ]
  },
  {
   "cell_type": "markdown",
   "metadata": {},
   "source": []
  }
 ],
 "metadata": {
  "kernelspec": {
   "display_name": "RS-T2",
   "language": "python",
   "name": "python3"
  },
  "language_info": {
   "codemirror_mode": {
    "name": "ipython",
    "version": 3
   },
   "file_extension": ".py",
   "mimetype": "text/x-python",
   "name": "python",
   "nbconvert_exporter": "python",
   "pygments_lexer": "ipython3",
   "version": "3.10.14"
  }
 },
 "nbformat": 4,
 "nbformat_minor": 2
}
