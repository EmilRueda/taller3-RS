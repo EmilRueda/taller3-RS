{
 "cells": [
  {
   "cell_type": "code",
   "execution_count": 3,
   "metadata": {},
   "outputs": [],
   "source": [
    "from pyspark.sql import SparkSession\n",
    "from pyspark.sql import functions as F\n",
    "import pandas as pd\n",
    "from ydata_profiling import ProfileReport"
   ]
  },
  {
   "cell_type": "code",
   "execution_count": 6,
   "metadata": {},
   "outputs": [],
   "source": [
    "url = \"neo4j+s://e13d26eb.databases.neo4j.io\"\n",
    "username = \"neo4j\"\n",
    "password = \"C0-lgeL4HXJTknM9OI0qq-2mGvZ5hI41521JX9WvqO0\""
   ]
  },
  {
   "cell_type": "code",
   "execution_count": 7,
   "metadata": {},
   "outputs": [
    {
     "name": "stderr",
     "output_type": "stream",
     "text": [
      "Warning: Ignoring non-Spark config property: neo4j.url\n",
      "Warning: Ignoring non-Spark config property: neo4j.authentication.basic.password\n",
      "Warning: Ignoring non-Spark config property: neo4j.authentication.type\n",
      "Warning: Ignoring non-Spark config property: neo4j.authentication.basic.username\n"
     ]
    },
    {
     "name": "stdout",
     "output_type": "stream",
     "text": [
      "24/06/02 19:44:45 WARN Utils: Your hostname, emil-GL552VW resolves to a loopback address: 127.0.1.1; using 192.168.1.5 instead (on interface wlp2s0)\n",
      "24/06/02 19:44:45 WARN Utils: Set SPARK_LOCAL_IP if you need to bind to another address\n",
      ":: loading settings :: url = jar:file:/home/emil/spark/spark/jars/ivy-2.5.1.jar!/org/apache/ivy/core/settings/ivysettings.xml\n"
     ]
    },
    {
     "name": "stderr",
     "output_type": "stream",
     "text": [
      "Ivy Default Cache set to: /home/emil/.ivy2/cache\n",
      "The jars for the packages stored in: /home/emil/.ivy2/jars\n",
      "org.neo4j#neo4j-connector-apache-spark_2.12 added as a dependency\n",
      ":: resolving dependencies :: org.apache.spark#spark-submit-parent-48d22d0a-32cc-4a56-8b33-6a2b05046d38;1.0\n",
      "\tconfs: [default]\n",
      "\tfound org.neo4j#neo4j-connector-apache-spark_2.12;5.1.0_for_spark_3 in central\n",
      "\tfound org.neo4j#neo4j-connector-apache-spark_2.12_common;5.1.0 in central\n",
      "\tfound org.neo4j.driver#neo4j-java-driver;4.4.12 in central\n",
      "\tfound org.reactivestreams#reactive-streams;1.0.4 in central\n",
      "\tfound org.apache.xbean#xbean-asm6-shaded;4.10 in central\n",
      "\tfound org.neo4j#neo4j-cypher-dsl;2022.9.0 in central\n",
      "\tfound org.apiguardian#apiguardian-api;1.1.2 in central\n",
      ":: resolution report :: resolve 385ms :: artifacts dl 19ms\n",
      "\t:: modules in use:\n",
      "\torg.apache.xbean#xbean-asm6-shaded;4.10 from central in [default]\n",
      "\torg.apiguardian#apiguardian-api;1.1.2 from central in [default]\n",
      "\torg.neo4j#neo4j-connector-apache-spark_2.12;5.1.0_for_spark_3 from central in [default]\n",
      "\torg.neo4j#neo4j-connector-apache-spark_2.12_common;5.1.0 from central in [default]\n",
      "\torg.neo4j#neo4j-cypher-dsl;2022.9.0 from central in [default]\n",
      "\torg.neo4j.driver#neo4j-java-driver;4.4.12 from central in [default]\n",
      "\torg.reactivestreams#reactive-streams;1.0.4 from central in [default]\n",
      "\t---------------------------------------------------------------------\n",
      "\t|                  |            modules            ||   artifacts   |\n",
      "\t|       conf       | number| search|dwnlded|evicted|| number|dwnlded|\n",
      "\t---------------------------------------------------------------------\n",
      "\t|      default     |   7   |   0   |   0   |   0   ||   7   |   0   |\n",
      "\t---------------------------------------------------------------------\n",
      ":: retrieving :: org.apache.spark#spark-submit-parent-48d22d0a-32cc-4a56-8b33-6a2b05046d38\n",
      "\tconfs: [default]\n",
      "\t0 artifacts copied, 7 already retrieved (0kB/13ms)\n"
     ]
    },
    {
     "name": "stdout",
     "output_type": "stream",
     "text": [
      "24/06/02 19:44:46 WARN NativeCodeLoader: Unable to load native-hadoop library for your platform... using builtin-java classes where applicable\n"
     ]
    },
    {
     "name": "stderr",
     "output_type": "stream",
     "text": [
      "Setting default log level to \"WARN\".\n",
      "To adjust logging level use sc.setLogLevel(newLevel). For SparkR, use setLogLevel(newLevel).\n"
     ]
    },
    {
     "name": "stdout",
     "output_type": "stream",
     "text": [
      "24/06/02 19:44:46 WARN SparkConf: Note that spark.local.dir will be overridden by the value set by the cluster manager (via SPARK_LOCAL_DIRS in mesos/standalone/kubernetes and LOCAL_DIRS in YARN).\n",
      "24/06/02 19:44:47 WARN Utils: Service 'SparkUI' could not bind on port 4040. Attempting port 4041.\n"
     ]
    }
   ],
   "source": [
    "spark = (\n",
    "    SparkSession.builder.config(\"neo4j.url\", url)\n",
    "    .config(\"neo4j.authentication.type\", \"basic\")\n",
    "    .config('spark.jars.packages', 'org.neo4j:neo4j-connector-apache-spark_2.12:5.1.0_for_spark_3')\n",
    "    .config(\"neo4j.authentication.basic.username\", username)\n",
    "    .config(\"neo4j.authentication.basic.password\", password)\n",
    "    .getOrCreate()\n",
    ")"
   ]
  },
  {
   "cell_type": "code",
   "execution_count": 8,
   "metadata": {},
   "outputs": [
    {
     "data": {
      "text/html": [
       "\n",
       "            <div>\n",
       "                <p><b>SparkSession - in-memory</b></p>\n",
       "                \n",
       "        <div>\n",
       "            <p><b>SparkContext</b></p>\n",
       "\n",
       "            <p><a href=\"http://192.168.1.5:4041\">Spark UI</a></p>\n",
       "\n",
       "            <dl>\n",
       "              <dt>Version</dt>\n",
       "                <dd><code>v3.3.2</code></dd>\n",
       "              <dt>Master</dt>\n",
       "                <dd><code>local[*]</code></dd>\n",
       "              <dt>AppName</dt>\n",
       "                <dd><code>pyspark-shell</code></dd>\n",
       "            </dl>\n",
       "        </div>\n",
       "        \n",
       "            </div>\n",
       "        "
      ],
      "text/plain": [
       "<pyspark.sql.session.SparkSession at 0x73d3d1d07610>"
      ]
     },
     "execution_count": 8,
     "metadata": {},
     "output_type": "execute_result"
    }
   ],
   "source": [
    "spark"
   ]
  },
  {
   "cell_type": "markdown",
   "metadata": {},
   "source": [
    "# Load data"
   ]
  },
  {
   "cell_type": "code",
   "execution_count": 20,
   "metadata": {},
   "outputs": [],
   "source": [
    "movilens_path = \"../data/ml-latest-small/\"\n",
    "imdb_path = \"../data/imdb/\""
   ]
  },
  {
   "cell_type": "code",
   "execution_count": 21,
   "metadata": {},
   "outputs": [],
   "source": [
    "raw_movies = spark.read.option(\"header\", True).format(\"csv\").load(movilens_path + \"movies.csv\")\n",
    "raw_ratings = spark.read.option(\"header\", True).format(\"csv\").load(movilens_path + \"ratings.csv\")\n",
    "raw_links = spark.read.option(\"header\", True).format(\"csv\").load(movilens_path + \"links.csv\")\n",
    "raw_tags = spark.read.option(\"header\", True).format(\"csv\").load(movilens_path + \"tags.csv\")"
   ]
  },
  {
   "cell_type": "code",
   "execution_count": 22,
   "metadata": {},
   "outputs": [],
   "source": [
    "raw_title_basics = spark.read.option(\"header\", True).option(\"delimiter\", \"\\t\").format(\"csv\").load(imdb_path + \"title.basics.tsv\")\n",
    "raw_title_crew = spark.read.option(\"header\", True).format(\"csv\").option(\"delimiter\", \"\\t\").load(imdb_path + \"title.crew.tsv\")\n",
    "raw_name = spark.read.option(\"header\", True).format(\"csv\").option(\"delimiter\", \"\\t\").load(imdb_path + \"name.basics.tsv\")\n",
    "raw_principals = spark.read.option(\"header\", True).format(\"csv\").option(\"delimiter\", \"\\t\").load(imdb_path + \"title.principals.tsv\")"
   ]
  },
  {
   "cell_type": "markdown",
   "metadata": {},
   "source": [
    "# EDA"
   ]
  },
  {
   "cell_type": "code",
   "execution_count": 18,
   "metadata": {},
   "outputs": [
    {
     "name": "stdout",
     "output_type": "stream",
     "text": [
      "+-------+--------------------+--------------------+\n",
      "|movieId|               title|              genres|\n",
      "+-------+--------------------+--------------------+\n",
      "|      1|    Toy Story (1995)|Adventure|Animati...|\n",
      "|      2|      Jumanji (1995)|Adventure|Childre...|\n",
      "|      3|Grumpier Old Men ...|      Comedy|Romance|\n",
      "|      4|Waiting to Exhale...|Comedy|Drama|Romance|\n",
      "|      5|Father of the Bri...|              Comedy|\n",
      "|      6|         Heat (1995)|Action|Crime|Thri...|\n",
      "|      7|      Sabrina (1995)|      Comedy|Romance|\n",
      "|      8| Tom and Huck (1995)|  Adventure|Children|\n",
      "|      9| Sudden Death (1995)|              Action|\n",
      "|     10|    GoldenEye (1995)|Action|Adventure|...|\n",
      "|     11|American Presiden...|Comedy|Drama|Romance|\n",
      "|     12|Dracula: Dead and...|       Comedy|Horror|\n",
      "|     13|        Balto (1995)|Adventure|Animati...|\n",
      "|     14|        Nixon (1995)|               Drama|\n",
      "|     15|Cutthroat Island ...|Action|Adventure|...|\n",
      "|     16|       Casino (1995)|         Crime|Drama|\n",
      "|     17|Sense and Sensibi...|       Drama|Romance|\n",
      "|     18|   Four Rooms (1995)|              Comedy|\n",
      "|     19|Ace Ventura: When...|              Comedy|\n",
      "|     20|  Money Train (1995)|Action|Comedy|Cri...|\n",
      "+-------+--------------------+--------------------+\n",
      "only showing top 20 rows\n",
      "\n"
     ]
    }
   ],
   "source": [
    "raw_movies.show()"
   ]
  },
  {
   "cell_type": "code",
   "execution_count": 80,
   "metadata": {},
   "outputs": [
    {
     "data": {
      "text/plain": [
       "9742"
      ]
     },
     "execution_count": 80,
     "metadata": {},
     "output_type": "execute_result"
    }
   ],
   "source": [
    "raw_movies.count()"
   ]
  },
  {
   "cell_type": "code",
   "execution_count": 22,
   "metadata": {},
   "outputs": [
    {
     "name": "stdout",
     "output_type": "stream",
     "text": [
      "+------+-------+------+---------+\n",
      "|userId|movieId|rating|timestamp|\n",
      "+------+-------+------+---------+\n",
      "|     1|      1|   4.0|964982703|\n",
      "|     1|      3|   4.0|964981247|\n",
      "|     1|      6|   4.0|964982224|\n",
      "|     1|     47|   5.0|964983815|\n",
      "|     1|     50|   5.0|964982931|\n",
      "|     1|     70|   3.0|964982400|\n",
      "|     1|    101|   5.0|964980868|\n",
      "|     1|    110|   4.0|964982176|\n",
      "|     1|    151|   5.0|964984041|\n",
      "|     1|    157|   5.0|964984100|\n",
      "|     1|    163|   5.0|964983650|\n",
      "|     1|    216|   5.0|964981208|\n",
      "|     1|    223|   3.0|964980985|\n",
      "|     1|    231|   5.0|964981179|\n",
      "|     1|    235|   4.0|964980908|\n",
      "|     1|    260|   5.0|964981680|\n",
      "|     1|    296|   3.0|964982967|\n",
      "|     1|    316|   3.0|964982310|\n",
      "|     1|    333|   5.0|964981179|\n",
      "|     1|    349|   4.0|964982563|\n",
      "+------+-------+------+---------+\n",
      "only showing top 20 rows\n",
      "\n"
     ]
    }
   ],
   "source": [
    "raw_ratings.show()"
   ]
  },
  {
   "cell_type": "code",
   "execution_count": 10,
   "metadata": {},
   "outputs": [
    {
     "data": {
      "text/plain": [
       "100836"
      ]
     },
     "execution_count": 10,
     "metadata": {},
     "output_type": "execute_result"
    }
   ],
   "source": [
    "raw_ratings.count()"
   ]
  },
  {
   "cell_type": "code",
   "execution_count": 23,
   "metadata": {},
   "outputs": [
    {
     "name": "stdout",
     "output_type": "stream",
     "text": [
      "+-------+-------+------+\n",
      "|movieId| imdbId|tmdbId|\n",
      "+-------+-------+------+\n",
      "|      1|0114709|   862|\n",
      "|      2|0113497|  8844|\n",
      "|      3|0113228| 15602|\n",
      "|      4|0114885| 31357|\n",
      "|      5|0113041| 11862|\n",
      "|      6|0113277|   949|\n",
      "|      7|0114319| 11860|\n",
      "|      8|0112302| 45325|\n",
      "|      9|0114576|  9091|\n",
      "|     10|0113189|   710|\n",
      "|     11|0112346|  9087|\n",
      "|     12|0112896| 12110|\n",
      "|     13|0112453| 21032|\n",
      "|     14|0113987| 10858|\n",
      "|     15|0112760|  1408|\n",
      "|     16|0112641|   524|\n",
      "|     17|0114388|  4584|\n",
      "|     18|0113101|     5|\n",
      "|     19|0112281|  9273|\n",
      "|     20|0113845| 11517|\n",
      "+-------+-------+------+\n",
      "only showing top 20 rows\n",
      "\n"
     ]
    }
   ],
   "source": [
    "raw_links.show()"
   ]
  },
  {
   "cell_type": "code",
   "execution_count": 25,
   "metadata": {},
   "outputs": [
    {
     "name": "stdout",
     "output_type": "stream",
     "text": [
      "+------+-------+-----------------+----------+\n",
      "|userId|movieId|              tag| timestamp|\n",
      "+------+-------+-----------------+----------+\n",
      "|     2|  60756|            funny|1445714994|\n",
      "|     2|  60756|  Highly quotable|1445714996|\n",
      "|     2|  60756|     will ferrell|1445714992|\n",
      "|     2|  89774|     Boxing story|1445715207|\n",
      "|     2|  89774|              MMA|1445715200|\n",
      "|     2|  89774|        Tom Hardy|1445715205|\n",
      "|     2| 106782|            drugs|1445715054|\n",
      "|     2| 106782|Leonardo DiCaprio|1445715051|\n",
      "|     2| 106782|  Martin Scorsese|1445715056|\n",
      "|     7|  48516|     way too long|1169687325|\n",
      "|    18|    431|        Al Pacino|1462138765|\n",
      "|    18|    431|         gangster|1462138749|\n",
      "|    18|    431|            mafia|1462138755|\n",
      "|    18|   1221|        Al Pacino|1461699306|\n",
      "|    18|   1221|            Mafia|1461699303|\n",
      "|    18|   5995|        holocaust|1455735472|\n",
      "|    18|   5995|       true story|1455735479|\n",
      "|    18|  44665|     twist ending|1456948283|\n",
      "|    18|  52604|  Anthony Hopkins|1457650696|\n",
      "|    18|  52604|  courtroom drama|1457650711|\n",
      "+------+-------+-----------------+----------+\n",
      "only showing top 20 rows\n",
      "\n"
     ]
    }
   ],
   "source": [
    "raw_tags.show()"
   ]
  },
  {
   "cell_type": "code",
   "execution_count": 39,
   "metadata": {},
   "outputs": [
    {
     "name": "stdout",
     "output_type": "stream",
     "text": [
      "+---------+---------+--------------------+--------------------+-------+---------+-------+--------------+--------------------+\n",
      "|   tconst|titleType|        primaryTitle|       originalTitle|isAdult|startYear|endYear|runtimeMinutes|              genres|\n",
      "+---------+---------+--------------------+--------------------+-------+---------+-------+--------------+--------------------+\n",
      "|tt0000001|    short|          Carmencita|          Carmencita|      0|     1894|     \\N|             1|   Documentary,Short|\n",
      "|tt0000002|    short|Le clown et ses c...|Le clown et ses c...|      0|     1892|     \\N|             5|     Animation,Short|\n",
      "|tt0000003|    short|      Pauvre Pierrot|      Pauvre Pierrot|      0|     1892|     \\N|             5|Animation,Comedy,...|\n",
      "|tt0000004|    short|         Un bon bock|         Un bon bock|      0|     1892|     \\N|            12|     Animation,Short|\n",
      "|tt0000005|    short|    Blacksmith Scene|    Blacksmith Scene|      0|     1893|     \\N|             1|        Comedy,Short|\n",
      "|tt0000006|    short|   Chinese Opium Den|   Chinese Opium Den|      0|     1894|     \\N|             1|               Short|\n",
      "|tt0000007|    short|Corbett and Court...|Corbett and Court...|      0|     1894|     \\N|             1|         Short,Sport|\n",
      "|tt0000008|    short|Edison Kinetoscop...|Edison Kinetoscop...|      0|     1894|     \\N|             1|   Documentary,Short|\n",
      "|tt0000009|    movie|          Miss Jerry|          Miss Jerry|      0|     1894|     \\N|            45|             Romance|\n",
      "|tt0000010|    short| Leaving the Factory|La sortie de l'us...|      0|     1895|     \\N|             1|   Documentary,Short|\n",
      "|tt0000011|    short|Akrobatisches Pot...|Akrobatisches Pot...|      0|     1895|     \\N|             1|   Documentary,Short|\n",
      "|tt0000012|    short|The Arrival of a ...|L'arrivée d'un tr...|      0|     1896|     \\N|             1|   Documentary,Short|\n",
      "|tt0000013|    short|The Photographica...|Le débarquement d...|      0|     1895|     \\N|             1|   Documentary,Short|\n",
      "|tt0000014|    short| The Waterer Watered|   L'arroseur arrosé|      0|     1895|     \\N|             1|        Comedy,Short|\n",
      "|tt0000015|    short| Autour d'une cabine| Autour d'une cabine|      0|     1894|     \\N|             2|     Animation,Short|\n",
      "|tt0000016|    short|Boat Leaving the ...|Barque sortant du...|      0|     1895|     \\N|             1|   Documentary,Short|\n",
      "|tt0000017|    short|Italienischer Bau...|Italienischer Bau...|      0|     1895|     \\N|             1|   Documentary,Short|\n",
      "|tt0000018|    short|Das boxende Känguruh|Das boxende Känguruh|      0|     1895|     \\N|             1|               Short|\n",
      "|tt0000019|    short|    The Clown Barber|    The Clown Barber|      0|     1898|     \\N|            \\N|        Comedy,Short|\n",
      "|tt0000020|    short|      The Derby 1895|      The Derby 1895|      0|     1895|     \\N|             1|Documentary,Short...|\n",
      "+---------+---------+--------------------+--------------------+-------+---------+-------+--------------+--------------------+\n",
      "only showing top 20 rows\n",
      "\n"
     ]
    }
   ],
   "source": [
    "raw_title_basics.show()"
   ]
  },
  {
   "cell_type": "code",
   "execution_count": 43,
   "metadata": {},
   "outputs": [
    {
     "name": "stdout",
     "output_type": "stream",
     "text": [
      "+---------+-------------------+---------+\n",
      "|   tconst|          directors|  writers|\n",
      "+---------+-------------------+---------+\n",
      "|tt0000001|          nm0005690|       \\N|\n",
      "|tt0000002|          nm0721526|       \\N|\n",
      "|tt0000003|          nm0721526|       \\N|\n",
      "|tt0000004|          nm0721526|       \\N|\n",
      "|tt0000005|          nm0005690|       \\N|\n",
      "|tt0000006|          nm0005690|       \\N|\n",
      "|tt0000007|nm0005690,nm0374658|       \\N|\n",
      "|tt0000008|          nm0005690|       \\N|\n",
      "|tt0000009|          nm0085156|nm0085156|\n",
      "|tt0000010|          nm0525910|       \\N|\n",
      "|tt0000011|          nm0804434|       \\N|\n",
      "|tt0000012|nm0525908,nm0525910|       \\N|\n",
      "|tt0000013|          nm0525910|       \\N|\n",
      "|tt0000014|          nm0525910|       \\N|\n",
      "|tt0000015|          nm0721526|       \\N|\n",
      "|tt0000016|          nm0525910|       \\N|\n",
      "|tt0000017|nm1587194,nm0804434|       \\N|\n",
      "|tt0000018|          nm0804434|       \\N|\n",
      "|tt0000019|          nm0932055|       \\N|\n",
      "|tt0000020|          nm0010291|       \\N|\n",
      "+---------+-------------------+---------+\n",
      "only showing top 20 rows\n",
      "\n"
     ]
    }
   ],
   "source": [
    "raw_title_crew.show()"
   ]
  },
  {
   "cell_type": "code",
   "execution_count": 45,
   "metadata": {},
   "outputs": [
    {
     "name": "stdout",
     "output_type": "stream",
     "text": [
      "+---------+-------------------+---------+---------+--------------------+--------------------+\n",
      "|   nconst|        primaryName|birthYear|deathYear|   primaryProfession|      knownForTitles|\n",
      "+---------+-------------------+---------+---------+--------------------+--------------------+\n",
      "|nm0000001|       Fred Astaire|     1899|     1987|actor,miscellaneo...|tt0072308,tt00504...|\n",
      "|nm0000002|      Lauren Bacall|     1924|     2014|actress,soundtrac...|tt0037382,tt00752...|\n",
      "|nm0000003|    Brigitte Bardot|     1934|       \\N|actress,music_dep...|tt0057345,tt00491...|\n",
      "|nm0000004|       John Belushi|     1949|     1982|actor,writer,musi...|tt0072562,tt00779...|\n",
      "|nm0000005|     Ingmar Bergman|     1918|     2007|writer,director,a...|tt0050986,tt00839...|\n",
      "|nm0000006|     Ingrid Bergman|     1915|     1982|actress,producer,...|tt0034583,tt00368...|\n",
      "|nm0000007|    Humphrey Bogart|     1899|     1957|actor,producer,mi...|tt0034583,tt00425...|\n",
      "|nm0000008|      Marlon Brando|     1924|     2004|actor,director,wr...|tt0078788,tt00686...|\n",
      "|nm0000009|     Richard Burton|     1925|     1984|actor,producer,di...|tt0061184,tt00878...|\n",
      "|nm0000010|       James Cagney|     1899|     1986|actor,director,pr...|tt0029870,tt00318...|\n",
      "|nm0000011|        Gary Cooper|     1901|     1961|actor,stunts,prod...|tt0044706,tt00341...|\n",
      "|nm0000012|        Bette Davis|     1908|     1989|actress,make_up_d...|tt0042192,tt00566...|\n",
      "|nm0000013|          Doris Day|     1922|     2019|actress,producer,...|tt0048317,tt00455...|\n",
      "|nm0000014|Olivia de Havilland|     1916|     2020|actress,soundtrac...|tt0031381,tt00414...|\n",
      "|nm0000015|         James Dean|     1931|     1955|actor,miscellaneo...|tt0048028,tt00485...|\n",
      "|nm0000016|    Georges Delerue|     1925|     1992|composer,music_de...|tt0091763,tt00963...|\n",
      "|nm0000017|   Marlene Dietrich|     1901|     1992|actress,music_dep...|tt0051201,tt00550...|\n",
      "|nm0000018|       Kirk Douglas|     1916|     2020|actor,producer,di...|tt0080736,tt00543...|\n",
      "|nm0000019|   Federico Fellini|     1920|     1993|writer,director,a...|tt0050783,tt00568...|\n",
      "|nm0000020|        Henry Fonda|     1905|     1982|actor,producer,mi...|tt0050083,tt00828...|\n",
      "+---------+-------------------+---------+---------+--------------------+--------------------+\n",
      "only showing top 20 rows\n",
      "\n"
     ]
    }
   ],
   "source": [
    "raw_name.show()"
   ]
  },
  {
   "cell_type": "code",
   "execution_count": 23,
   "metadata": {},
   "outputs": [
    {
     "name": "stdout",
     "output_type": "stream",
     "text": [
      "+---------+--------+---------+---------------+-----------------------+--------------+\n",
      "|tconst   |ordering|nconst   |category       |job                    |characters    |\n",
      "+---------+--------+---------+---------------+-----------------------+--------------+\n",
      "|tt0000001|1       |nm1588970|self           |\\N                     |[\"Self\"]      |\n",
      "|tt0000001|2       |nm0005690|director       |\\N                     |\\N            |\n",
      "|tt0000001|3       |nm0005690|producer       |producer               |\\N            |\n",
      "|tt0000001|4       |nm0374658|cinematographer|director of photography|\\N            |\n",
      "|tt0000002|1       |nm0721526|director       |\\N                     |\\N            |\n",
      "|tt0000002|2       |nm1335271|composer       |\\N                     |\\N            |\n",
      "|tt0000003|1       |nm0721526|director       |\\N                     |\\N            |\n",
      "|tt0000003|2       |nm1770680|producer       |producer               |\\N            |\n",
      "|tt0000003|3       |nm0721526|producer       |producer               |\\N            |\n",
      "|tt0000003|4       |nm1335271|composer       |\\N                     |\\N            |\n",
      "|tt0000003|5       |nm5442200|editor         |editor                 |\\N            |\n",
      "|tt0000004|1       |nm0721526|director       |\\N                     |\\N            |\n",
      "|tt0000004|2       |nm1335271|composer       |\\N                     |\\N            |\n",
      "|tt0000005|1       |nm0443482|actor          |\\N                     |[\"Blacksmith\"]|\n",
      "|tt0000005|2       |nm0653042|actor          |\\N                     |[\"Assistant\"] |\n",
      "|tt0000005|3       |nm0249379|producer       |producer               |\\N            |\n",
      "|tt0000007|1       |nm0179163|actor          |\\N                     |\\N            |\n",
      "|tt0000007|2       |nm0183947|actor          |\\N                     |\\N            |\n",
      "|tt0000007|3       |nm0005690|director       |\\N                     |\\N            |\n",
      "|tt0000007|4       |nm0374658|director       |\\N                     |\\N            |\n",
      "+---------+--------+---------+---------------+-----------------------+--------------+\n",
      "only showing top 20 rows\n",
      "\n"
     ]
    }
   ],
   "source": [
    "raw_principals.show(truncate=False)"
   ]
  },
  {
   "cell_type": "markdown",
   "metadata": {},
   "source": [
    "# Generate primary movies dataset"
   ]
  },
  {
   "cell_type": "code",
   "execution_count": 7,
   "metadata": {},
   "outputs": [],
   "source": [
    "directors = raw_title_crew.join(raw_name, raw_title_crew.directors==raw_name.nconst, how=\"inner\")"
   ]
  },
  {
   "cell_type": "code",
   "execution_count": 8,
   "metadata": {},
   "outputs": [
    {
     "name": "stderr",
     "output_type": "stream",
     "text": [
      "[Stage 12:>                                                         (0 + 1) / 1]\r"
     ]
    },
    {
     "name": "stdout",
     "output_type": "stream",
     "text": [
      "+----------+---------+--------------------+---------+--------------+---------+---------+--------------------+--------------------+\n",
      "|    tconst|directors|             writers|   nconst|   primaryName|birthYear|deathYear|   primaryProfession|      knownForTitles|\n",
      "+----------+---------+--------------------+---------+--------------+---------+---------+--------------------+--------------------+\n",
      "| tt0284008|nm0000100|nm0001037,nm00000...|nm0000100|Rowan Atkinson|     1955|       \\N|actor,writer,prod...|tt0274166,tt16341...|\n",
      "| tt0119600|nm0000113|           nm0000113|nm0000113|Sandra Bullock|     1964|       \\N|producer,actress,...|tt1041829,tt02123...|\n",
      "| tt0328097|nm0000161| nm0853256,nm0178294|nm0000161|   Salma Hayek|     1966|       \\N|actress,producer,...|tt0120679,tt01128...|\n",
      "| tt1192878|nm0000174|           nm0000174|nm0000174|    Val Kilmer|     1959|       \\N|actor,producer,di...|tt0101761,tt01200...|\n",
      "| tt6857412|nm0000174|           nm0000174|nm0000174|    Val Kilmer|     1959|       \\N|actor,producer,di...|tt0101761,tt01200...|\n",
      "| tt0119792|nm0000198|           nm0000198|nm0000198|   Gary Oldman|     1958|       \\N|actor,producer,di...|tt0468569,tt13408...|\n",
      "| tt2395259|nm0000198|                  \\N|nm0000198|   Gary Oldman|     1958|       \\N|actor,producer,di...|tt0468569,tt13408...|\n",
      "| tt2983414|nm0000198|           nm0000198|nm0000198|   Gary Oldman|     1958|       \\N|actor,producer,di...|tt0468569,tt13408...|\n",
      "| tt0116913|nm0000199|nm0000636,nm00001...|nm0000199|     Al Pacino|     1940|       \\N|actor,director,pr...|tt0070666,tt00728...|\n",
      "| tt0118852|nm0000199|           nm0507277|nm0000199|     Al Pacino|     1940|       \\N|actor,director,pr...|tt0070666,tt00728...|\n",
      "| tt0795459|nm0000199| nm0000199,nm0928492|nm0000199|     Al Pacino|     1940|       \\N|actor,director,pr...|tt0070666,tt00728...|\n",
      "| tt3112900|nm0000199|           nm0928492|nm0000199|     Al Pacino|     1940|       \\N|actor,director,pr...|tt0070666,tt00728...|\n",
      "| tt3856926|nm0000240|           nm2352176|nm0000240|  Skeet Ulrich|     1970|       \\N|actor,director,pr...|tt0117571,tt01159...|\n",
      "| tt1808711|nm0000301|           nm3396943|nm0000301|   Thora Birch|     1982|       \\N|actress,producer,...|tt0162346,tt01071...|\n",
      "|tt20049600|nm0000301| nm3667633,nm0806465|nm0000301|   Thora Birch|     1982|       \\N|actress,producer,...|tt0162346,tt01071...|\n",
      "|tt21807858|nm0000301|nm12676918,nm0001465|nm0000301|   Thora Birch|     1982|       \\N|actress,producer,...|tt0162346,tt01071...|\n",
      "| tt0084868|nm0000318|           nm0000318|nm0000318|    Tim Burton|     1958|       \\N|producer,miscella...|tt0099487,tt11429...|\n",
      "| tt0087291|nm0000318| nm0000318,nm0728125|nm0000318|    Tim Burton|     1958|       \\N|producer,miscella...|tt0099487,tt11429...|\n",
      "| tt0089791|nm0000318|nm0367005,nm00006...|nm0000318|    Tim Burton|     1958|       \\N|producer,miscella...|tt0099487,tt11429...|\n",
      "| tt0094721|nm0000318|nm0568313,nm09337...|nm0000318|    Tim Burton|     1958|       \\N|producer,miscella...|tt0099487,tt11429...|\n",
      "+----------+---------+--------------------+---------+--------------+---------+---------+--------------------+--------------------+\n",
      "only showing top 20 rows\n",
      "\n"
     ]
    },
    {
     "name": "stderr",
     "output_type": "stream",
     "text": [
      "                                                                                \r"
     ]
    }
   ],
   "source": [
    "directors.show()"
   ]
  },
  {
   "cell_type": "code",
   "execution_count": 10,
   "metadata": {},
   "outputs": [],
   "source": [
    "links = raw_links.select(F.col(\"movieId\"), F.concat(F.lit(\"tt\"), F.col(\"imdbId\")).alias(\"tconst\"))"
   ]
  },
  {
   "cell_type": "code",
   "execution_count": 11,
   "metadata": {},
   "outputs": [],
   "source": [
    "movies = directors.join(links, on=\"tconst\", how=\"inner\").join(raw_movies, on=\"movieId\", how=\"inner\")"
   ]
  },
  {
   "cell_type": "code",
   "execution_count": null,
   "metadata": {},
   "outputs": [],
   "source": [
    "movies = movies.select(\"*\", F.split(\"genres\", r\"\\|\").alias(\"genres_array\")).select(\n",
    "    F.col(\"movieId\").alias(\"movie_id\"),\n",
    "    \"title\",\n",
    "    F.explode(\"genres_array\").alias(\"genres\"),\n",
    "    F.col(\"primaryName\").alias(\"director_name\"),\n",
    "    \"tconst\"\n",
    ")"
   ]
  },
  {
   "cell_type": "code",
   "execution_count": 6,
   "metadata": {},
   "outputs": [
    {
     "name": "stderr",
     "output_type": "stream",
     "text": [
      "                                                                                \r"
     ]
    },
    {
     "data": {
      "text/plain": [
       "19923"
      ]
     },
     "execution_count": 6,
     "metadata": {},
     "output_type": "execute_result"
    }
   ],
   "source": [
    "movies.count()"
   ]
  },
  {
   "cell_type": "markdown",
   "metadata": {},
   "source": [
    "### Write primary movies dataset"
   ]
  },
  {
   "cell_type": "code",
   "execution_count": null,
   "metadata": {},
   "outputs": [],
   "source": [
    "movies.write.option(\"header\", True).csv(\"../data/results/prm_movies\")"
   ]
  },
  {
   "cell_type": "code",
   "execution_count": 5,
   "metadata": {},
   "outputs": [
    {
     "name": "stderr",
     "output_type": "stream",
     "text": [
      "                                                                                \r"
     ]
    }
   ],
   "source": [
    "movies = spark.read.option(\"header\", True).format(\"csv\").load(\"../data/results/\" + \"prm_movies\")"
   ]
  },
  {
   "cell_type": "markdown",
   "metadata": {},
   "source": [
    "# Generate master graph data table"
   ]
  },
  {
   "cell_type": "code",
   "execution_count": 23,
   "metadata": {},
   "outputs": [],
   "source": [
    "graph_mdt = movies.join(\n",
    "    raw_ratings.select(\n",
    "        F.col(\"userId\").alias(\"user_id\"),\n",
    "        F.col(\"movieId\").alias(\"movie_id\"),\n",
    "        \"rating\"\n",
    "    ),\n",
    "    on=\"movie_id\",\n",
    "    how=\"inner\"\n",
    ")"
   ]
  },
  {
   "cell_type": "code",
   "execution_count": 26,
   "metadata": {},
   "outputs": [
    {
     "name": "stdout",
     "output_type": "stream",
     "text": [
      "+--------+--------------------+---------+----------------+-------+------+\n",
      "|movie_id|               title|   genres|   director_name|user_id|rating|\n",
      "+--------+--------------------+---------+----------------+-------+------+\n",
      "|       1|    Toy Story (1995)|  Fantasy|   John Lasseter|      1|   4.0|\n",
      "|       1|    Toy Story (1995)|   Comedy|   John Lasseter|      1|   4.0|\n",
      "|       1|    Toy Story (1995)| Children|   John Lasseter|      1|   4.0|\n",
      "|       1|    Toy Story (1995)|Animation|   John Lasseter|      1|   4.0|\n",
      "|       1|    Toy Story (1995)|Adventure|   John Lasseter|      1|   4.0|\n",
      "|       3|Grumpier Old Men ...|  Romance|   Howard Deutch|      1|   4.0|\n",
      "|       3|Grumpier Old Men ...|   Comedy|   Howard Deutch|      1|   4.0|\n",
      "|       6|         Heat (1995)| Thriller|    Michael Mann|      1|   4.0|\n",
      "|       6|         Heat (1995)|    Crime|    Michael Mann|      1|   4.0|\n",
      "|       6|         Heat (1995)|   Action|    Michael Mann|      1|   4.0|\n",
      "|      47|Seven (a.k.a. Se7...| Thriller|   David Fincher|      1|   5.0|\n",
      "|      47|Seven (a.k.a. Se7...|  Mystery|   David Fincher|      1|   5.0|\n",
      "|      50|Usual Suspects, T...| Thriller|    Bryan Singer|      1|   5.0|\n",
      "|      50|Usual Suspects, T...|  Mystery|    Bryan Singer|      1|   5.0|\n",
      "|      50|Usual Suspects, T...|    Crime|    Bryan Singer|      1|   5.0|\n",
      "|      70|From Dusk Till Da...| Thriller|Robert Rodriguez|      1|   3.0|\n",
      "|      70|From Dusk Till Da...|   Horror|Robert Rodriguez|      1|   3.0|\n",
      "|      70|From Dusk Till Da...|   Comedy|Robert Rodriguez|      1|   3.0|\n",
      "|      70|From Dusk Till Da...|   Action|Robert Rodriguez|      1|   3.0|\n",
      "|     101|Bottle Rocket (1996)|  Romance|    Wes Anderson|      1|   5.0|\n",
      "+--------+--------------------+---------+----------------+-------+------+\n",
      "only showing top 20 rows\n",
      "\n"
     ]
    }
   ],
   "source": [
    "graph_mdt.show()"
   ]
  },
  {
   "cell_type": "markdown",
   "metadata": {},
   "source": [
    "# Profiling data"
   ]
  },
  {
   "cell_type": "code",
   "execution_count": 10,
   "metadata": {},
   "outputs": [
    {
     "name": "stderr",
     "output_type": "stream",
     "text": [
      "                                                                                \r"
     ]
    }
   ],
   "source": [
    "graph_mdt_pd = graph_mdt.toPandas()"
   ]
  },
  {
   "cell_type": "code",
   "execution_count": 11,
   "metadata": {},
   "outputs": [
    {
     "data": {
      "application/vnd.jupyter.widget-view+json": {
       "model_id": "558280a7c6d34bd5be1bb61d44e69d66",
       "version_major": 2,
       "version_minor": 0
      },
      "text/plain": [
       "Summarize dataset:   0%|          | 0/5 [00:00<?, ?it/s]"
      ]
     },
     "metadata": {},
     "output_type": "display_data"
    },
    {
     "name": "stderr",
     "output_type": "stream",
     "text": [
      "/home/emil/anaconda3/envs/RS-T2/lib/python3.10/site-packages/ydata_profiling/model/correlations.py:66: UserWarning: There was an attempt to calculate the auto correlation, but this failed.\n",
      "To hide this warning, disable the calculation\n",
      "(using `df.profile_report(correlations={\"auto\": {\"calculate\": False}})`\n",
      "If this is problematic for your use case, please report this as an issue:\n",
      "https://github.com/ydataai/ydata-profiling/issues\n",
      "(include the error message: 'could not convert string to float: 'Fantasy'')\n",
      "  warnings.warn(\n"
     ]
    },
    {
     "data": {
      "application/vnd.jupyter.widget-view+json": {
       "model_id": "7168737272bc4c2f84f444b356b33c3f",
       "version_major": 2,
       "version_minor": 0
      },
      "text/plain": [
       "Generate report structure:   0%|          | 0/1 [00:00<?, ?it/s]"
      ]
     },
     "metadata": {},
     "output_type": "display_data"
    },
    {
     "data": {
      "application/vnd.jupyter.widget-view+json": {
       "model_id": "4b3ed58f49404eeb939a27258d0fdfd9",
       "version_major": 2,
       "version_minor": 0
      },
      "text/plain": [
       "Render HTML:   0%|          | 0/1 [00:00<?, ?it/s]"
      ]
     },
     "metadata": {},
     "output_type": "display_data"
    },
    {
     "data": {
      "application/vnd.jupyter.widget-view+json": {
       "model_id": "2497f117eb3542cc9e70df14a2bdaa6e",
       "version_major": 2,
       "version_minor": 0
      },
      "text/plain": [
       "Export report to file:   0%|          | 0/1 [00:00<?, ?it/s]"
      ]
     },
     "metadata": {},
     "output_type": "display_data"
    }
   ],
   "source": [
    "# Generate the data profiling report \n",
    "report = ProfileReport(graph_mdt_pd, title='MovieLens dataset')\n",
    "report.to_file(\"my_report.html\")"
   ]
  },
  {
   "cell_type": "markdown",
   "metadata": {},
   "source": [
    "# Write to Neo4J"
   ]
  },
  {
   "cell_type": "code",
   "execution_count": 9,
   "metadata": {},
   "outputs": [],
   "source": [
    "graph_mdt = spark.read.option(\"header\", True).format(\"csv\").load(\"../data/results/\" + \"graph_mdt\")"
   ]
  },
  {
   "cell_type": "code",
   "execution_count": null,
   "metadata": {},
   "outputs": [],
   "source": [
    "graph_mdt = graph_mdt.withColumnRenamed(\"genres\", \"genre\")"
   ]
  },
  {
   "cell_type": "code",
   "execution_count": 8,
   "metadata": {},
   "outputs": [
    {
     "data": {
      "text/plain": [
       "DataFrame[movie_id: string, title: string, genre: string, director_name: string, user_id: string, rating: string]"
      ]
     },
     "execution_count": 8,
     "metadata": {},
     "output_type": "execute_result"
    }
   ],
   "source": [
    "graph_mdt.select()"
   ]
  },
  {
   "cell_type": "markdown",
   "metadata": {},
   "source": [
    "### Write user nodes"
   ]
  },
  {
   "cell_type": "code",
   "execution_count": 4,
   "metadata": {},
   "outputs": [
    {
     "name": "stderr",
     "output_type": "stream",
     "text": [
      "                                                                                \r"
     ]
    }
   ],
   "source": [
    "\n",
    "graph_mdt.select(\"user_id\").distinct().write \\\n",
    "    .format(\"org.neo4j.spark.DataSource\") \\\n",
    "    .mode(\"Overwrite\") \\\n",
    "    .option(\"labels\", \":User\") \\\n",
    "    .option(\"node.keys\", \"user_id\") \\\n",
    "    .save()"
   ]
  },
  {
   "cell_type": "markdown",
   "metadata": {},
   "source": [
    "### Write movies with its director"
   ]
  },
  {
   "cell_type": "code",
   "execution_count": null,
   "metadata": {},
   "outputs": [],
   "source": [
    "graph_mdt.select(\"movie_id\", \"director_name\").distinct().write \\\n",
    "    .format(\"org.neo4j.spark.DataSource\") \\\n",
    "    .mode(\"Overwrite\") \\\n",
    "    .option(\"labels\", \":Movie\") \\\n",
    "    .option(\"node.keys\", \"movie_id\") \\\n",
    "    .option(\"node.properties\", \"director\") \\\n",
    "    .save()"
   ]
  },
  {
   "cell_type": "markdown",
   "metadata": {},
   "source": [
    "### Write genres"
   ]
  },
  {
   "cell_type": "code",
   "execution_count": 6,
   "metadata": {},
   "outputs": [
    {
     "name": "stderr",
     "output_type": "stream",
     "text": [
      "                                                                                \r"
     ]
    }
   ],
   "source": [
    "graph_mdt.select(\"genre\").distinct().write \\\n",
    "    .format(\"org.neo4j.spark.DataSource\") \\\n",
    "    .mode(\"Overwrite\") \\\n",
    "    .option(\"labels\", \":Genre\") \\\n",
    "    .option(\"node.keys\", \"genre\") \\\n",
    "    .save()"
   ]
  },
  {
   "cell_type": "markdown",
   "metadata": {},
   "source": [
    "### Generate relationships"
   ]
  },
  {
   "cell_type": "code",
   "execution_count": 7,
   "metadata": {},
   "outputs": [
    {
     "name": "stderr",
     "output_type": "stream",
     "text": [
      "                                                                                \r"
     ]
    }
   ],
   "source": [
    "graph_mdt.write \\\n",
    "    .format(\"org.neo4j.spark.DataSource\") \\\n",
    "    .mode(\"Overwrite\") \\\n",
    "    .option(\"relationship\", \"BELONGS_TO\") \\\n",
    "    .option(\"relationship.save.strategy\", \"keys\") \\\n",
    "    .option(\"relationship.source.labels\", \":Movie\") \\\n",
    "    .option(\"relationship.source.save.mode\", \"match\") \\\n",
    "    .option(\"relationship.source.node.keys\", \"movie_id\") \\\n",
    "    .option(\"relationship.target.labels\", \":Genre\") \\\n",
    "    .option(\"relationship.target.save.mode\", \"match\") \\\n",
    "    .option(\"relationship.target.node.keys\", \"genre\") \\\n",
    "    .save()"
   ]
  },
  {
   "cell_type": "code",
   "execution_count": 11,
   "metadata": {},
   "outputs": [
    {
     "name": "stderr",
     "output_type": "stream",
     "text": [
      "                                                                                \r"
     ]
    }
   ],
   "source": [
    "graph_mdt.select(\"movie_id\", \"user_id\", F.col(\"rating\").cast(\"float\")).write \\\n",
    "    .format(\"org.neo4j.spark.DataSource\") \\\n",
    "    .mode(\"Overwrite\") \\\n",
    "    .option(\"relationship\", \"RATED\") \\\n",
    "    .option(\"relationship.save.strategy\", \"keys\") \\\n",
    "    .option(\"relationship.source.labels\", \":User\") \\\n",
    "    .option(\"relationship.source.save.mode\", \"match\") \\\n",
    "    .option(\"relationship.source.node.keys\", \"user_id\") \\\n",
    "    .option(\"relationship.target.labels\", \":Movie\") \\\n",
    "    .option(\"relationship.target.save.mode\", \"match\") \\\n",
    "    .option(\"relationship.target.node.keys\", \"movie_id\") \\\n",
    "    .option(\"relationship.properties\", \"rating\") \\\n",
    "    .save()"
   ]
  },
  {
   "cell_type": "markdown",
   "metadata": {},
   "source": [
    "# Generate recomendations for especific users"
   ]
  },
  {
   "cell_type": "code",
   "execution_count": 12,
   "metadata": {},
   "outputs": [],
   "source": [
    "from neo4j import GraphDatabase"
   ]
  },
  {
   "cell_type": "code",
   "execution_count": 13,
   "metadata": {},
   "outputs": [],
   "source": [
    "URI = url\n",
    "AUTH = (username, password)\n",
    "\n",
    "with GraphDatabase.driver(URI, auth=AUTH) as driver:\n",
    "    driver.verify_connectivity()"
   ]
  },
  {
   "cell_type": "code",
   "execution_count": 29,
   "metadata": {},
   "outputs": [
    {
     "name": "stderr",
     "output_type": "stream",
     "text": [
      "/tmp/ipykernel_636759/1480557147.py:12: DeprecationWarning: Using a driver after it has been closed is deprecated. Future versions of the driver will raise an error.\n",
      "  records, summary, keys = driver.execute_query(\n"
     ]
    }
   ],
   "source": [
    "user_id = \"101\"\n",
    "\n",
    "collaborative_filtering_query = (\n",
    "    'MATCH (u:User {user_id: \"' + user_id + '\"})-[s:SIMILARITY]-(other:User)-[r:RATED]->(m:Movie)'\n",
    "    + \"\"\"WHERE NOT EXISTS { MATCH (u)-[:RATED]->(m) }\n",
    "    WITH m, other, toFloat(r.rating) AS otherRating, s.pearsonSimilarity AS similarity\n",
    "    WITH m, AVG(otherRating * similarity) AS weightedRating, SUM(similarity) AS sumSimilarity\n",
    "    RETURN m.movie_id, sumSimilarity\n",
    "    LIMIT 10;\"\"\"\n",
    ")\n",
    "\n",
    "records, summary, keys = driver.execute_query(\n",
    "    collaborative_filtering_query,\n",
    "    database_=\"neo4j\",\n",
    ")"
   ]
  },
  {
   "cell_type": "code",
   "execution_count": 28,
   "metadata": {},
   "outputs": [
    {
     "name": "stderr",
     "output_type": "stream",
     "text": [
      "/tmp/ipykernel_636759/1538916520.py:1: DeprecationWarning: Using a driver after it has been closed is deprecated. Future versions of the driver will raise an error.\n",
      "  records, summary, keys = driver.execute_query(\n"
     ]
    }
   ],
   "source": [
    "records, summary, keys = driver.execute_query(\n",
    "    \"MATCH (p:Person) RETURN p.name AS name\",\n",
    "    database_=\"neo4j\",\n",
    ")"
   ]
  },
  {
   "cell_type": "code",
   "execution_count": 30,
   "metadata": {},
   "outputs": [
    {
     "data": {
      "text/plain": [
       "[<Record m.movie_id='3614' sumSimilarity=2.928196250589005>,\n",
       " <Record m.movie_id='2279' sumSimilarity=2.3929466346818287>,\n",
       " <Record m.movie_id='3255' sumSimilarity=11.097124437173987>,\n",
       " <Record m.movie_id='1267' sumSimilarity=9.852849699088182>,\n",
       " <Record m.movie_id='3785' sumSimilarity=16.77899487438135>,\n",
       " <Record m.movie_id='2133' sumSimilarity=6.294573285313581>,\n",
       " <Record m.movie_id='2374' sumSimilarity=2.912493038391483>,\n",
       " <Record m.movie_id='1834' sumSimilarity=4.197096829465944>,\n",
       " <Record m.movie_id='35836' sumSimilarity=18.055773480346314>,\n",
       " <Record m.movie_id='4293' sumSimilarity=1.823615287233232>]"
      ]
     },
     "execution_count": 30,
     "metadata": {},
     "output_type": "execute_result"
    }
   ],
   "source": [
    "records"
   ]
  },
  {
   "cell_type": "code",
   "execution_count": 23,
   "metadata": {},
   "outputs": [
    {
     "data": {
      "text/plain": [
       "<neo4j._work.summary.ResultSummary at 0x73d3b41f3b50>"
      ]
     },
     "execution_count": 23,
     "metadata": {},
     "output_type": "execute_result"
    }
   ],
   "source": [
    "summary"
   ]
  },
  {
   "cell_type": "code",
   "execution_count": 24,
   "metadata": {},
   "outputs": [
    {
     "data": {
      "text/plain": [
       "['m.movie_id', 'sumSimilarity']"
      ]
     },
     "execution_count": 24,
     "metadata": {},
     "output_type": "execute_result"
    }
   ],
   "source": [
    "keys"
   ]
  },
  {
   "cell_type": "markdown",
   "metadata": {},
   "source": [
    "### Neo4j queries"
   ]
  },
  {
   "cell_type": "code",
   "execution_count": null,
   "metadata": {},
   "outputs": [],
   "source": [
    "similarity_query = (\n",
    "    \"\"\"MATCH (u1:User)-[r1:RATED]->(m:Movie)<-[r2:RATED]-(u2:User)\n",
    "    WITH u1, u2, COLLECT({rating1: toFloat(r1.rating), rating2: toFloat(r2.rating)}) AS ratings\n",
    "    WHERE SIZE(ratings) > 1  // Necesitamos al menos dos películas en común\n",
    "    WITH u1, u2, ratings,\n",
    "        REDUCE(s = 0.0, x IN ratings | s + x.rating1 * x.rating2) AS dotProduct,\n",
    "        REDUCE(s = 0.0, x IN ratings | s + x.rating1) AS ratingSum1,\n",
    "        REDUCE(s = 0.0, x IN ratings | s + x.rating2) AS ratingSum2,\n",
    "        REDUCE(s = 0.0, x IN ratings | s + x.rating1 * x.rating1) AS ratingSqSum1,\n",
    "        REDUCE(s = 0.0, x IN ratings | s + x.rating2 * x.rating2) AS ratingSqSum2,\n",
    "        SIZE(ratings) AS numRatings\n",
    "    WITH u1, u2,\n",
    "        dotProduct,\n",
    "        ratingSum1, ratingSum2,\n",
    "        ratingSqSum1, ratingSqSum2,\n",
    "        numRatings,\n",
    "        (dotProduct - (ratingSum1 * ratingSum2 / numRatings)) AS numerator,\n",
    "        (sqrt(ratingSqSum1 - ratingSum1 * ratingSum1 / numRatings) * sqrt(ratingSqSum2 - ratingSum2 * ratingSum2 / numRatings)) AS denominator\n",
    "    WHERE denominator <> 0\n",
    "    MERGE (u1)-[s:SIMILARITY]-(u2)\n",
    "    SET s.pearsonSimilarity = numerator / denominator\"\"\"\n",
    ")"
   ]
  },
  {
   "cell_type": "code",
   "execution_count": 16,
   "metadata": {},
   "outputs": [],
   "source": [
    "user_id = \"\"\n",
    "\n",
    "collaborative_filtering_query = (\n",
    "    \"\"\"MATCH (u:User {user_id: \"\"\" + user_id + \"\"\"})-[s:SIMILARITY]-(other:User)-[r:RATED]->(m:Movie)\n",
    "    WHERE NOT EXISTS { MATCH (u)-[:RATED]->(m) }\n",
    "    WITH m, other, toFloat(r.rating) AS otherRating, s.pearsonSimilarity AS similarity\n",
    "    WITH m, AVG(otherRating * similarity) AS weightedRating, SUM(similarity) AS sumSimilarity\n",
    "    RETURN m.movie_id, sumSimilarity\n",
    "    LIMIT 10;\"\"\"\n",
    ")"
   ]
  },
  {
   "cell_type": "code",
   "execution_count": null,
   "metadata": {},
   "outputs": [],
   "source": [
    "ontology_filter_query = (\n",
    "    \"\"\"MATCH (u:User {user_id: \"\"\" + user_id + \"\"\"})-[:RATED]->(likedMovie:Movie)\n",
    "    MATCH (likedMovie)-[:BELONGS_TO]->(genre:Genre)<-[:BELONGS_TO]-(recommendedMovie:Movie)\n",
    "    MATCH (recommendedMovie)<-[:DIRECTED]-(director:Director)\n",
    "    WHERE NOT (u)-[:RATED]->(recommendedMovie)\n",
    "    RETURN DISTINCT recommendedMovie.title AS recommendedMovie, COLLECT(DISTINCT genre.name) AS genres, COLLECT(DISTINCT director.name) AS directors\"\"\"\n",
    "   \n",
    ")"
   ]
  },
  {
   "cell_type": "markdown",
   "metadata": {},
   "source": []
  }
 ],
 "metadata": {
  "kernelspec": {
   "display_name": "RS-T2",
   "language": "python",
   "name": "python3"
  },
  "language_info": {
   "codemirror_mode": {
    "name": "ipython",
    "version": 3
   },
   "file_extension": ".py",
   "mimetype": "text/x-python",
   "name": "python",
   "nbconvert_exporter": "python",
   "pygments_lexer": "ipython3",
   "version": "3.10.14"
  }
 },
 "nbformat": 4,
 "nbformat_minor": 2
}
